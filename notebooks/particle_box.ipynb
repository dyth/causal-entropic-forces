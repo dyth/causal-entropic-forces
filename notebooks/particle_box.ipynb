{
 "cells": [
  {
   "cell_type": "markdown",
   "id": "5e01b067-2163-465d-b937-7ee89dafdbe3",
   "metadata": {},
   "source": [
    "## Definitions\n",
    "\n",
    "We use lowercase $x$ for scalars, bold lowercase $\\mathbf{x}$ for vectors and bold uppercase $\\mathbf{X}$ for matrices."
   ]
  },
  {
   "cell_type": "markdown",
   "id": "6a4ec235-ef9f-493f-9ca1-5178fde01ef5",
   "metadata": {},
   "source": [
    "## A Causal Entropic Force"
   ]
  },
  {
   "cell_type": "markdown",
   "id": "38b347ec-3881-4671-8314-fff784500f85",
   "metadata": {},
   "source": [
    "Consider a physical system that at time $t$ is at state $\\mathbf{x}_t$."
   ]
  },
  {
   "cell_type": "markdown",
   "id": "3e7bcb78-0818-4e40-96b3-e605ba9a166d",
   "metadata": {},
   "source": [
    "The causal entropy on state $\\mathbf{x}_t$ exerted by $\\tau$ timesteps is\n",
    "$$\n",
    "\\begin{align*}\n",
    "    s(\\mathbf{x}_t, \\tau) =\n",
    "    - k_b \\,\n",
    "    \\mathbb{E}_{\\mathbf{x}_{t+\\tau} \\sim p(\\mathbf{x}_{t+\\tau} \\mid \\mathbf{x}_t)}\n",
    "    \\left[\n",
    "        \\ln p(\\mathbf{x}_{t+\\tau} \\mid \\mathbf{x}_t)\n",
    "    \\right]\n",
    "\\end{align*}\n",
    "$$\n",
    "where $k_b$ is the Boltzmann constant."
   ]
  },
  {
   "cell_type": "markdown",
   "id": "8ee83bd2-7b6e-414b-9b0f-f9d1fefbeab0",
   "metadata": {},
   "source": [
    "The probability distribution over states $\\tau$ timesteps from $t$ is\n",
    "$$\n",
    "\\begin{align*}\n",
    "    p(\\mathbf{x}_{t+\\tau} \\mid \\mathbf{x}_t) = \n",
    "    \\int p(\\mathbf{x}_{t+\\tau}, \\mathbf{x}_{t:t+\\tau} \\mid \\mathbf{x}_t) \\,\\mathrm{d}\\mathbf{x}_{t:t+\\tau}\n",
    "\\end{align*}\n",
    "$$\n",
    "where $\\mathbf{x}_{t:t+\\tau}$ denotes all possible paths from $\\mathbf{x}_t$ to $\\mathbf{x}_{t+\\tau}$."
   ]
  },
  {
   "cell_type": "markdown",
   "id": "85aefbe4-68e4-4a44-a570-75b033a7ccee",
   "metadata": {},
   "source": [
    "The causal entropic force at state $\\mathbf{x}_t$ exerted by $\\tau$ timesteps with temperature $T_c$ is\n",
    "$$\n",
    "\\begin{align*}\n",
    "    \\mathbf{f}_c(\\mathbf{x}_t, \\tau) = T_c \\, \\left. \\nabla_{\\mathbf{x}} s(\\mathbf{x}, \\tau) \\right|_{\\mathbf{x}_t}\n",
    "\\end{align*}\n",
    "$$"
   ]
  },
  {
   "cell_type": "markdown",
   "id": "a62f6c87-6ff6-443f-bd95-2fc97eb6fc79",
   "metadata": {},
   "source": [
    "## Langevin Dynamics"
   ]
  },
  {
   "cell_type": "markdown",
   "id": "669fdd69-cfdb-440b-95fe-e967c48924a1",
   "metadata": {},
   "source": [
    "The state is defined by a position $\\mathbf{q}$ and momentum $\\mathbf{p}$ phase space: $\\mathbf{x}_t = \\{ \\mathbf{q}_t, \\mathbf{p}_t \\}$."
   ]
  },
  {
   "cell_type": "markdown",
   "id": "70e80763-fe64-494d-a61d-b5e422776d3e",
   "metadata": {},
   "source": []
  },
  {
   "cell_type": "markdown",
   "id": "9793e06c-882f-42f1-9ea7-2ad893620ee2",
   "metadata": {},
   "source": []
  },
  {
   "cell_type": "markdown",
   "id": "0287efb9-bdce-4f52-9d80-bd3a92f69725",
   "metadata": {},
   "source": []
  },
  {
   "cell_type": "markdown",
   "id": "37d6a509-1e8c-413b-b528-c7ab6e6c27c1",
   "metadata": {},
   "source": []
  },
  {
   "cell_type": "markdown",
   "id": "788c32e5-80a8-429f-9140-4d13fe9dfa64",
   "metadata": {},
   "source": []
  },
  {
   "cell_type": "markdown",
   "id": "99c08080-6d8a-4383-89f2-cbeb307d7e84",
   "metadata": {},
   "source": [
    "$$\n",
    "\\begin{align*}\n",
    "    \\mathbf{f}(\\mathbf{x}_0) = T \\, \\left. \\nabla_{\\mathbf{x}} s(\\mathbf{x}) \\right|_{\\mathbf{x}_0}\n",
    "\\end{align*}\n",
    "$$"
   ]
  },
  {
   "cell_type": "markdown",
   "id": "2a083887-a516-4b3e-b70c-0b8dbfd46e73",
   "metadata": {},
   "source": []
  },
  {
   "cell_type": "markdown",
   "id": "1535337d-ff2c-4f73-9801-68dd28e92b7b",
   "metadata": {},
   "source": []
  },
  {
   "cell_type": "markdown",
   "id": "c5eb7ba7-e96c-422f-bba5-666d6e2b5b44",
   "metadata": {},
   "source": []
  }
 ],
 "metadata": {
  "kernelspec": {
   "display_name": "Python 3 (ipykernel)",
   "language": "python",
   "name": "python3"
  },
  "language_info": {
   "codemirror_mode": {
    "name": "ipython",
    "version": 3
   },
   "file_extension": ".py",
   "mimetype": "text/x-python",
   "name": "python",
   "nbconvert_exporter": "python",
   "pygments_lexer": "ipython3",
   "version": "3.12.7"
  }
 },
 "nbformat": 4,
 "nbformat_minor": 5
}
