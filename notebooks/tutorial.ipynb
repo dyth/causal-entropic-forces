{
 "cells": [
  {
   "cell_type": "markdown",
   "id": "5e01b067-2163-465d-b937-7ee89dafdbe3",
   "metadata": {},
   "source": [
    "# Explaining Causal Entropic Forces"
   ]
  },
  {
   "cell_type": "markdown",
   "id": "91c3f3b9-6b5e-4a26-9b3d-522830685472",
   "metadata": {},
   "source": [
    "The _Physical Review Letters_ paper Causal Entropic Forces [[Wissner-Gross & Freer, 2013a]](http://math.mit.edu/~freer/papers/PhysRevLett_110-168702.pdf) presents an agent interacting with an environment whose behavior (over time) is governed by a \"causal entropic force\".\n",
    "In physics (and information theory), entropy measures the diversity of states a system can be at any one time.\n",
    "[[Wissner-Gross & Freer, 2013a]](http://math.mit.edu/~freer/papers/PhysRevLett_110-168702.pdf) define the causal entropy of an agent-environment system as the entropy over the environmental futures caused by the agent, and a causal entropic force as a Newtonian force acting on an agent to maximize causal entropy."
   ]
  },
  {
   "cell_type": "markdown",
   "id": "26523efd-f51c-4cf1-bf28-d9e87f9c3e75",
   "metadata": {},
   "source": [
    "This tutorial is a (re)implementation of the Causal Entropic Forces algorithm in the simplest experiment presented in [[Wissner-Gross & Freer, 2013a]](http://math.mit.edu/~freer/papers/PhysRevLett_110-168702.pdf) -- the particle in a box.\n",
    "After introducing some notation, I will first describe the behavior of an agent that does not maximize causal entropy, before explaining the mathematics and algorithmic implementation of an agent that does."
   ]
  },
  {
   "cell_type": "markdown",
   "id": "bb2023a1-ca30-440f-9a20-288156d0be04",
   "metadata": {},
   "source": [
    "This tutorial is written in mathematics and Python and is adapted from:\n",
    "\n",
    "1. Causal Entropic Forces [[Wissner-Gross & Freer, 2013a]](http://math.mit.edu/~freer/papers/PhysRevLett_110-168702.pdf).\n",
    "2. Supplementary Material to Causal Entropic Forces [[Wissner-Gross & Freer, 2013b]](https://journals.aps.org/prl/supplemental/10.1103/PhysRevLett.110.168702).\n",
    "3. Comment: Causal entropic forces [[Kappen, 2013]](https://arxiv.org/abs/1312.4185).\n",
    "4. Causal Entropic Forces: Intelligent Behaviour, Dynamics and Pattern Formation [[Hornischer, 2015]](https://pure.mpg.de/rest/items/item_2300851/component/file_2300850/content).\n",
    "5. Fractal AI: A fragile theory of intelligence [[Cerezo & Ballester, 2018]](https://arxiv.org/abs/1803.05049)."
   ]
  },
  {
   "cell_type": "markdown",
   "id": "eeb1c9e4-3792-401c-be54-49fc13b3d6a1",
   "metadata": {},
   "source": [
    "See `notebooks/README.md` for installation instructions on how to run this notebook."
   ]
  },
  {
   "cell_type": "markdown",
   "id": "d2b2f65b-c8ae-4ed5-a16b-03785edfb867",
   "metadata": {},
   "source": [
    "## Notation"
   ]
  },
  {
   "cell_type": "markdown",
   "id": "989e4af9-b40c-4a8c-9ac3-ba480a86242c",
   "metadata": {},
   "source": [
    "I follow the popular physical notation for mathematics and use lowercase $x$ for scalars, bold lowercase $\\mathbf{x}$ for vectors and bold uppercase $\\mathbf{X}$ for matrices."
   ]
  },
  {
   "cell_type": "markdown",
   "id": "4040e344-7e8a-4493-9993-ef89839b2af2",
   "metadata": {},
   "source": [
    "I will refer to an agent whose behavior is guided by a random number generator and not a causal entropic force as a random agent, and an agent whose behavior purposefully maximizes causal entropy as a causal-entropic agent.\n",
    "I am not aware that these term were used for such descriptive purposes in any of the five references above, but [[Wissner-Gross, 2013]](https://www.youtube.com/watch?v=rZB8TNaG-ik) describes an agent that maximizes a causal entropic force as \"Entropica\"."
   ]
  },
  {
   "cell_type": "markdown",
   "id": "12741ef6-7c10-4c7b-af0f-03a9bfdb3c7f",
   "metadata": {},
   "source": [
    "An agent is individually situated in a physical system whose state at time $t$ is described by a phase space $\\mathbf{x}_t = \\{ \\mathbf{q}_t, \\mathbf{p}_t \\}$, where $\\mathbf{q}$ and $\\mathbf{p}$ are respectively position and momentum vectors that have the same number of elements.\n",
    "Note that in the particle-in-a-box experiment that there is only one agent in the environment."
   ]
  },
  {
   "cell_type": "markdown",
   "id": "e157da9d-e806-448c-b788-32aa5c66cde8",
   "metadata": {},
   "source": [
    "## A Random Agent"
   ]
  },
  {
   "cell_type": "markdown",
   "id": "9bf0ff3e-f585-4f82-bb8e-5b2669a6d889",
   "metadata": {},
   "source": [
    "This section is adapted from page 2 of [[Wissner-Gross & Freer, 2013a]](http://math.mit.edu/~freer/papers/PhysRevLett_110-168702.pdf) and pages 2 and 3 of [[Wissner-Gross & Freer, 2013b]](https://journals.aps.org/prl/supplemental/10.1103/PhysRevLett.110.168702)."
   ]
  },
  {
   "cell_type": "markdown",
   "id": "3b6246a9-333a-43db-b2bd-bcd4535ff5a8",
   "metadata": {},
   "source": [
    "A random agent causes the state component $j$ to evolve through time following the Langevin dynamics of\n",
    "$$\n",
    "\\begin{align*}\n",
    "    \\dot{p}_{j, t}\n",
    "    &=\n",
    "    g_j(\\mathbf{x}_t, t)\n",
    "\\\\\n",
    "    \\dot{q}_{j, t}\n",
    "    &=\n",
    "    \\frac{p_{j, t}}{m_{j}}\n",
    "\\end{align*}\n",
    "$$\n",
    "where $m_j$ is the effective mass of component $j$."
   ]
  },
  {
   "cell_type": "markdown",
   "id": "2a1e5c4b-db71-4612-9d1a-3be702aec12c",
   "metadata": {},
   "source": [
    "$g_j(\\mathbf{x}_t, t)$ is the energetic force of component $j$ and evolves in discrete timesteps of duration $\\epsilon$ following\n",
    "$$\n",
    "\\begin{align*}\n",
    "    g_j(\\mathbf{x}_t, t)\n",
    "    =\n",
    "    - \\frac{1}{\\epsilon} \\, p_j \\left( \\left\\lfloor \\frac{t}{\\epsilon} \\right\\rfloor \\epsilon \\right)\n",
    "    + f_j \\left( \\left\\lfloor \\frac{t}{\\epsilon} \\right\\rfloor \\epsilon \\right)\n",
    "    + h_j \\left( \\mathbf{x}_t \\right)\n",
    "\\end{align*}\n",
    "$$\n",
    "where $h_j$ are deterministic state-dependent internal system forces and $f_j \\sim \\mathcal{N} \\left(\\mu = 0, \\sigma = \\frac{1}{\\epsilon} \\sqrt{m_j \\, k_B \\, T_r} \\right)$ is a random variable sampled iid at every timestep at every $j$, with $T_r$ the temperature of the heat reservoir of the system.\n",
    "\n",
    "The use of the random variable $f_j$ in this agent is what gives the random agent its name."
   ]
  },
  {
   "cell_type": "markdown",
   "id": "ed01a812-994f-4f0f-a5eb-134c29d0cacd",
   "metadata": {},
   "source": [
    "The following code visualizes how the energetic force drives the evolution of a random agent in the particle-in-a-box physical system."
   ]
  },
  {
   "cell_type": "code",
   "execution_count": 1,
   "id": "baecfd9f-5dfa-443a-bede-64cb6516225c",
   "metadata": {},
   "outputs": [],
   "source": [
    "import numpy as np\n",
    "import scipy\n",
    "\n",
    "from matplotlib import pyplot as plt\n",
    "from matplotlib import patches as patches\n",
    "from matplotlib import cm\n",
    "\n",
    "import copy"
   ]
  },
  {
   "cell_type": "code",
   "execution_count": 2,
   "id": "7863dd4c-196a-447b-8ec2-a3d10547d6af",
   "metadata": {},
   "outputs": [],
   "source": [
    "np.random.seed(0)"
   ]
  },
  {
   "cell_type": "code",
   "execution_count": 3,
   "id": "02cd6e86-c50c-4e76-af32-ddb2a375e25b",
   "metadata": {},
   "outputs": [],
   "source": [
    "EPSILON = .025\n",
    "M       = 1e-21\n",
    "T_R     = 4e5\n",
    "K_B     = scipy.constants.Boltzmann\n",
    "TAU     = 10.\n",
    "\n",
    "L     = 400\n",
    "Q_MIN = np.array([0., 0.  ])\n",
    "Q_MAX = np.array([L , L/5.])\n",
    "\n",
    "p_max = M * np.abs(Q_MAX - Q_MIN) / EPSILON\n",
    "\n",
    "loc   = 0.\n",
    "scale = np.sqrt(M * K_B * T_R) / EPSILON\n",
    "# scale = np.sqrt(K_B * T_R)\n",
    "\n",
    "timesteps = int(TAU / EPSILON)"
   ]
  },
  {
   "cell_type": "code",
   "execution_count": 4,
   "id": "bc3a478c-357d-491b-8090-fe11e398ee1f",
   "metadata": {},
   "outputs": [],
   "source": [
    "q = np.array([L/10., L/10.])\n",
    "p = np.array([0.   , 0.   ])\n",
    "\n",
    "path = copy.deepcopy(q[None, :])\n",
    "\n",
    "for _ in range(timesteps-1):\n",
    "    f = np.random.normal(loc=loc, scale=scale, size=(2,))\n",
    "    g = - p / EPSILON + f\n",
    "\n",
    "    p_dot = g\n",
    "    p    += p_dot * EPSILON\n",
    "    # bound the momentum by the maximum momentum\n",
    "    p     = np.sign(p) * np.minimum(p_max, np.abs(p))\n",
    "    \n",
    "    q_dot = p / M\n",
    "    q    += q_dot * EPSILON\n",
    "    # perfectly elastic collisions with walls\n",
    "    q  = np.maximum(q, 2 * Q_MIN - q)\n",
    "    p *= np.sign(q - Q_MIN)\n",
    "    q  = np.minimum(q, 2 * Q_MAX - q)\n",
    "    p *= np.sign(Q_MAX - q)\n",
    "\n",
    "    path = np.append(path, q[None, :], axis=0)"
   ]
  },
  {
   "cell_type": "code",
   "execution_count": 5,
   "id": "cf972b75-c272-4b48-ae35-460fe6162176",
   "metadata": {},
   "outputs": [
    {
     "data": {
      "image/png": "[encoded data removed]",
      "text/plain": [
       "<Figure size 1300x1300 with 1 Axes>"
      ]
     },
     "metadata": {},
     "output_type": "display_data"
    }
   ],
   "source": [
    "fig, ax = plt.subplots(figsize=(13, 13))\n",
    "# ax.add_patch(patches.Rectangle(Q_MIN, L, L/5., edgecolor='k', fill=False)) # from https://stackoverflow.com/a/37437395\n",
    "ax.plot(*path.T)\n",
    "ax.set_xlim(Q_MIN[0], Q_MAX[0])\n",
    "ax.set_ylim(Q_MIN[1], Q_MAX[1])\n",
    "ax.set(aspect='equal')\n",
    "plt.show()"
   ]
  },
  {
   "cell_type": "markdown",
   "id": "968728f9-c73d-49ed-a342-3b4a64a5830f",
   "metadata": {},
   "source": [
    "## A Causal Entropic Agent"
   ]
  },
  {
   "cell_type": "markdown",
   "id": "6161f6b1-0d73-4fa2-bfd3-0fb5392a677b",
   "metadata": {},
   "source": [
    "A causal entropic agent causes the state component $j$ to evolve through time following the Langevin dynamics of\n",
    "$$\n",
    "\\begin{align*}\n",
    "    \\dot{p}_{j, t}\n",
    "    &=\n",
    "    \\mathbb{E}_{f_j} [g_j(\\mathbf{x}_t, t)]\n",
    "    +\n",
    "    f^{(c)}(\\mathbf{x}_t, \\tau)\n",
    "\\\\\n",
    "    \\dot{q}_{j, t}\n",
    "    &=\n",
    "    \\frac{p_{j, t}}{m_{j}}\n",
    "\\end{align*}\n",
    "$$\n",
    "where $m_j$ is the effective mass of component $j$ and $f^{(c)}(\\mathbf{x}_t, \\tau)$ is the causal entropic force."
   ]
  },
  {
   "cell_type": "markdown",
   "id": "afaca4e3-1e2a-4ec7-9a41-78ba8644abf8",
   "metadata": {},
   "source": [
    "Before I define the causal entropic force, note that the change in momentum simplifies to\n",
    "$$\n",
    "\\begin{align*}\n",
    "    \\dot{p}_{j, t}\n",
    "    &=\n",
    "    \\mathbb{E}_{f_j} [g_j(\\mathbf{x}_t, t)]\n",
    "    + f^{(c)}_{j}(\\mathbf{x}_t, \\tau)\n",
    "\\\\\n",
    "    &=\n",
    "    \\mathbb{E}_{f_j} \\left[\n",
    "        - \\frac{1}{\\epsilon} \\, p_j \\left( \\left\\lfloor \\frac{t}{\\epsilon} \\right\\rfloor \\epsilon \\right)\n",
    "        + f_j \\left( \\left\\lfloor \\frac{t}{\\epsilon} \\right\\rfloor \\epsilon \\right)\n",
    "        + h_j \\left( \\mathbf{x}_t \\right)\n",
    "    \\right]\n",
    "    + f^{(c)}_{j}(\\mathbf{x}_t, \\tau)\n",
    "\\\\\n",
    "    &=\n",
    "    - \\frac{1}{\\epsilon} \\, p_j \\left( \\left\\lfloor \\frac{t}{\\epsilon} \\right\\rfloor \\epsilon \\right)\n",
    "    + h_j \\left( \\mathbf{x}_t \\right)\n",
    "    + f^{(c)}_{j}(\\mathbf{x}_t, \\tau)\n",
    "\\end{align*}\n",
    "$$"
   ]
  },
  {
   "cell_type": "markdown",
   "id": "03786691-50ff-4f6f-bffb-4db51dce0d74",
   "metadata": {},
   "source": [
    "### A Causal Entropic Force"
   ]
  },
  {
   "cell_type": "markdown",
   "id": "6081d214-a3a6-4862-8981-1da3c4734263",
   "metadata": {},
   "source": [
    "The causal entropic force is exerted on state $\\mathbf{x}_t$ by a time-horizon of $\\tau$ and temperature $T_c$ and defined by\n",
    "$$\n",
    "\\begin{align*}\n",
    "    \\mathbf{f}^{(c)}(\\mathbf{x}_t, \\tau) = T_c \\, \\left. \\nabla_{\\mathbf{x}} \\, s(\\mathbf{x}, \\tau) \\right|_{\\mathbf{x}_t}\n",
    "\\end{align*}\n",
    "$$"
   ]
  },
  {
   "cell_type": "markdown",
   "id": "3e7bcb78-0818-4e40-96b3-e605ba9a166d",
   "metadata": {},
   "source": [
    "Here, $s(\\mathbf{x}_t, \\tau)$ is the causal entropy from $\\mathbf{x}_t$ with a time-horizon of $\\tau$:\n",
    "$$\n",
    "\\begin{align*}\n",
    "    s(\\mathbf{x}_t, \\tau) =\n",
    "    - k_B \\,\n",
    "    \\mathbb{E}_{\\mathbf{x}_{t+\\tau} \\sim p(\\mathbf{x}_{t+\\tau} \\mid \\mathbf{x}_t)}\n",
    "    \\left[\n",
    "        \\ln p(\\mathbf{x}_{t+\\tau} \\mid \\mathbf{x}_t)\n",
    "    \\right]\n",
    "\\end{align*}\n",
    "$$\n",
    "and $k_B$ is the Boltzmann constant."
   ]
  },
  {
   "cell_type": "markdown",
   "id": "8ee83bd2-7b6e-414b-9b0f-f9d1fefbeab0",
   "metadata": {},
   "source": [
    "The probability distribution over states $\\tau$ timesteps from $t$ is\n",
    "$$\n",
    "\\begin{align*}\n",
    "    p(\\mathbf{x}_{t+\\tau} \\mid \\mathbf{x}_t) = \n",
    "    \\int p(\\mathbf{x}_{t+\\tau}, \\mathbf{x}_{t:t+\\tau} \\mid \\mathbf{x}_t) \\,\\mathrm{d}\\mathbf{x}_{t:t+\\tau}\n",
    "\\end{align*}\n",
    "$$\n",
    "where $\\mathbf{x}_{t:t+\\tau}$ denotes all possible paths from $\\mathbf{x}_t$ to $\\mathbf{x}_{t+\\tau}$."
   ]
  },
  {
   "cell_type": "markdown",
   "id": "8de58a53-f59b-467e-8281-6a7de13ff225",
   "metadata": {},
   "source": [
    "As the system dynamics evolve in discrete time, the above probability distribution becomes the following Markov chain\n",
    "$$\n",
    "\\begin{align*}\n",
    "    p(\\mathbf{x}_{t+\\tau} \\mid \\mathbf{x}_t) = \n",
    "    \\sum_{\\mathbf{x}_{t+\\epsilon} , \\mathbf{x}_{t+2\\epsilon} , \\cdots \\mathbf{x}_{t + \\tau - \\epsilon}}\n",
    "    p(\\mathbf{x}_{t+\\epsilon} \\mid \\mathbf{x}_t)\n",
    "    \\prod_{n=1}^{\\tau/\\epsilon-1}\n",
    "        p(\\mathbf{x}_{t + (n+1)\\epsilon} \\mid \\mathbf{x}_{t + n\\epsilon})\n",
    "\\end{align*}\n",
    "$$"
   ]
  },
  {
   "cell_type": "markdown",
   "id": "8eb014b5-ba45-4645-8806-cf57665c6918",
   "metadata": {},
   "source": [
    "### Calculating The Causal Entropic Force\n",
    "\n",
    "This section is adapted from pages 2 and 3 of [[Wissner-Gross & Freer, 2013a]](http://math.mit.edu/~freer/papers/PhysRevLett_110-168702.pdf) and Section 3.1 of [[Hornischer, 2015]](https://pure.mpg.de/rest/items/item_2300851/component/file_2300850/content) and describes how to calculate the causal entropic force component $f^{(c)}_j(\\mathbf{x}_t, \\tau)$."
   ]
  },
  {
   "cell_type": "markdown",
   "id": "0d430dc2-533e-4f88-b16d-d661399b3bb1",
   "metadata": {},
   "source": [
    "The units of (causal) entropy is $J/K$ due to the Boltzmann constant, and multiplying the causal entropy by a temperature produces an energetic quantity.\n",
    "As the derivative of energy wrt position determines a force, the causal entropic force on component $j$ of the physical system is\n",
    "$$\n",
    "\\begin{align*}\n",
    "    f^{(c)}_j(\\mathbf{x}_t, \\tau)\n",
    "    &= T_c \\, \\left. \\frac{\\partial}{\\partial q_j} \\, s(\\{ \\mathbf{q}, \\mathbf{p}_t \\}, \\tau) \\right|_{\\mathbf{q}_t}\n",
    "\\\\\n",
    "    &= - T_c \\, k_B \\, \\left. \\frac{\\partial}{\\partial q_j} \\,\n",
    "    \\mathbb{E}_{\\mathbf{x}_{t+\\tau} \\sim p(\\mathbf{x}_{t+\\tau} \\mid \\{ \\mathbf{q}, \\mathbf{p}_t \\})}\n",
    "    \\left[\n",
    "        \\ln p(\\mathbf{x}_{t+\\tau} \\mid \\{ \\mathbf{q}, \\mathbf{p}_t \\})\n",
    "    \\right]\\right|_{\\mathbf{q}_t}\n",
    "\\\\\n",
    "    &= - T_c \\, k_B \\, \\left. \\frac{\\partial}{\\partial q_j}\n",
    "    \\int\n",
    "        p(\\mathbf{x}_{t+\\tau} \\mid \\{ \\mathbf{q}, \\mathbf{p}_t \\}) \\ln p(\\mathbf{x}_{t+\\tau} \\mid \\{ \\mathbf{q}, \\mathbf{p}_t \\})\n",
    "        \\,\\mathrm{d} \\mathbf{x}_{t+\\tau}\n",
    "    \\right|_{\\mathbf{q}_t}\n",
    "\\\\\n",
    "    &= - T_c \\, k_B \\, \\left.\n",
    "    \\int\n",
    "        \\frac{\\partial}{\\partial q_j} \\,\n",
    "        p(\\mathbf{x}_{t+\\tau} \\mid \\{ \\mathbf{q}, \\mathbf{p}_t \\}) \\ln p(\\mathbf{x}_{t+\\tau} \\mid \\{ \\mathbf{q}, \\mathbf{p}_t \\})\n",
    "        \\,\\mathrm{d} \\mathbf{x}_{t+\\tau}\n",
    "    \\right|_{\\mathbf{q}_t}\n",
    "\\\\\n",
    "    &= - T_c \\, k_B \\, \\left.\n",
    "    \\int\n",
    "        \\frac{\\partial \\, p(\\mathbf{x}_{t+\\tau} \\mid \\{ \\mathbf{q}, \\mathbf{p}_t \\})}{\\partial q_j}\n",
    "        \\ln p(\\mathbf{x}_{t+\\tau} \\mid \\mathbf{x}_t)\n",
    "        + p(\\mathbf{x}_{t+\\tau} \\mid \\{ \\mathbf{q}, \\mathbf{p}_t \\}) \\frac{\\partial \\ln p(\\mathbf{x}_{t+\\tau} \\mid \\{ \\mathbf{q}, \\mathbf{p}_t \\})}{\\partial q_j}\n",
    "        \\,\\mathrm{d} \\mathbf{x}_{t+\\tau}\n",
    "    \\right|_{\\mathbf{q}_t}\n",
    "\\\\\n",
    "    &= - T_c \\, k_B \\, \\left.\n",
    "    \\int\n",
    "        \\frac{\\partial \\, p(\\mathbf{x}_{t+\\tau} \\mid \\{ \\mathbf{q}, \\mathbf{p}_t \\})}{\\partial q_j}\n",
    "        \\ln p(\\mathbf{x}_{t+\\tau} \\mid \\mathbf{x}_t)\n",
    "        + \\frac{\\partial}{\\partial q_j} p(\\mathbf{x}_{t+\\tau} \\mid \\{ \\mathbf{q}, \\mathbf{p}_t \\})\n",
    "        \\,\\mathrm{d} \\mathbf{x}_{t+\\tau}\n",
    "    \\right|_{\\mathbf{q}_t}\n",
    "\\\\\n",
    "    &= - T_c \\, k_B\n",
    "    \\int\n",
    "        \\left.\n",
    "            \\frac{\\partial}{\\partial q_j} p(\\mathbf{x}_{t+\\tau} \\mid \\{ \\mathbf{q}, \\mathbf{p}_t \\})\n",
    "        \\right|_{\\mathbf{q}_t}\n",
    "        \\ln p(\\mathbf{x}_{t+\\tau} \\mid \\mathbf{x}_t)\n",
    "    \\,\\mathrm{d} \\mathbf{x}_{t+\\tau}\n",
    "    + \\left. \\int\n",
    "        \\frac{\\partial}{\\partial q_j} p(\\mathbf{x}_{t+\\tau} \\mid \\{ \\mathbf{q}, \\mathbf{p}_t \\})\n",
    "    \\,\\mathrm{d} \\mathbf{x}_{t+\\tau}\n",
    "    \\right|_{\\mathbf{q}_t}\n",
    "\\\\\n",
    "    &= - T_c \\, k_B\n",
    "    \\int\n",
    "        \\left.\n",
    "            \\frac{\\partial}{\\partial q_j} p(\\mathbf{x}_{t+\\tau} \\mid \\{ \\mathbf{q}, \\mathbf{p}_t \\})\n",
    "        \\right|_{\\mathbf{q}_t}\n",
    "        \\ln p(\\mathbf{x}_{t+\\tau} \\mid \\mathbf{x}_t)\n",
    "    \\,\\mathrm{d} \\mathbf{x}_{t+\\tau}\n",
    "    + \\frac{\\partial}{\\partial q_j} 1\n",
    "\\\\\n",
    "    &= - T_c \\, k_B\n",
    "    \\int\n",
    "        \\left.\n",
    "            \\frac{\\partial}{\\partial q_j} p(\\mathbf{x}_{t+\\tau} \\mid \\{ \\mathbf{q}, \\mathbf{p}_t \\})\n",
    "        \\right|_{\\mathbf{q}_t}\n",
    "        \\ln p(\\mathbf{x}_{t+\\tau} \\mid \\mathbf{x}_t)\n",
    "    \\,\\mathrm{d} \\mathbf{x}_{t+\\tau}\n",
    "\\end{align*}\n",
    "$$"
   ]
  },
  {
   "cell_type": "markdown",
   "id": "e2602011-405d-4c2a-a71a-5315659a9d88",
   "metadata": {},
   "source": [
    "Now, substituting the Markov chain probability definition,\n",
    "$$\n",
    "\\begin{align*}\n",
    "    \\left.\n",
    "        \\frac{\\partial}{\\partial q_j} p(\\mathbf{x}_{t+\\tau} \\mid \\{ \\mathbf{q}, \\mathbf{p}_t \\})\n",
    "    \\right|_{\\mathbf{q}_j}\n",
    "&=\n",
    "    \\left.\n",
    "        \\frac{\\partial}{\\partial q_j} \\,\n",
    "        \\sum_{\\mathbf{x}_{t+\\epsilon} , \\mathbf{x}_{t+2\\epsilon} , \\cdots \\mathbf{x}_{t + \\tau - \\epsilon}}\n",
    "        p(\\mathbf{x}_{t+\\epsilon} \\mid \\{ \\mathbf{q}, \\mathbf{p}_t \\})\n",
    "        \\prod_{n=1}^{\\tau/\\epsilon-1}\n",
    "            p(\\mathbf{x}_{t + (n+1)\\epsilon} \\mid p(\\mathbf{x}_{t + n\\epsilon})\n",
    "    \\right|_{\\mathbf{q}_j}\n",
    "\\\\\n",
    "&=\n",
    "    \\sum_{\\mathbf{x}_{t+\\epsilon} , \\mathbf{x}_{t+2\\epsilon} , \\cdots \\mathbf{x}_{t + \\tau - \\epsilon}}\n",
    "    \\left.\n",
    "        \\frac{\\partial}{\\partial q_j} \\,\n",
    "        p(\\mathbf{x}_{t+\\epsilon} \\mid \\{ \\mathbf{q}, \\mathbf{p}_t \\})\n",
    "    \\right|_{\\mathbf{q}_j}\n",
    "    \\prod_{n=1}^{\\tau/\\epsilon-1}\n",
    "        p(\\mathbf{x}_{t + (n+1)\\epsilon} \\mid p(\\mathbf{x}_{t + n\\epsilon})\n",
    "\\end{align*}\n",
    "$$"
   ]
  },
  {
   "cell_type": "markdown",
   "id": "206937a6-acdd-42d6-ba96-144a085f3925",
   "metadata": {},
   "source": [
    "The quantity in $p$ that the above derivative depends on is $q_{j, t+\\epsilon}$, whose value is determined by one step of Langevin dynamics from $q_{j, t}$\n",
    "$$\n",
    "\\begin{align*}\n",
    "    q_{j, t+\\epsilon}\n",
    "    &= q_{j, t} + \\dot{q}_{j, t} \\, \\epsilon\n",
    "\\\\\n",
    "    &= q_{j, t} + \\frac{p_{j, t}}{m_{j}} \\epsilon\n",
    "\\\\\n",
    "    &= q_{j, t} + \\frac{p_{j, t} + \\dot{p}_{j, t} \\, \\epsilon}{m_{j}} \\epsilon\n",
    "\\\\\n",
    "    &= q_{j, t} + \\frac{p_{j, t}}{m_{j}} \\epsilon + \\frac{\n",
    "    - \\frac{1}{\\epsilon} \\, p_{j, t} + f_{j, t} + h_j(\\mathbf{x}_t)}{m_{j}} \\epsilon^2\n",
    "\\\\\n",
    "    % &= q_{j, t} + \\frac{p_{j, t}}{m_{j}} \\epsilon + \\frac{f_{j, t} + h_j(\\mathbf{x}_t)}{m_{j}} \\epsilon^2\n",
    "    % &= q_{j, t} + \\left( f_{j, t} + h_j(\\mathbf{x}_t) \\right) \\frac{\\epsilon^2}{m_{j}}\n",
    "    &= q_{j, t} + \\frac{f_{j, t} + h_j(\\mathbf{x}_t)}{m_{j}} \\epsilon^2\n",
    "\\\\\n",
    "    &= q_{j, t} + f_{j, t} \\frac{\\epsilon^2}{m_{j}} + h_j(\\mathbf{x}_t) \\frac{\\epsilon^2}{m_{j}}\n",
    "\\end{align*}\n",
    "$$"
   ]
  },
  {
   "cell_type": "markdown",
   "id": "15ae95cd-2ea1-4b0c-8b2d-098dedb94c55",
   "metadata": {},
   "source": [
    "**Note 1**: My expression for $q_{j, t+\\epsilon}$ differs from that "
   ]
  },
  {
   "cell_type": "markdown",
   "id": "61a33fc1-87c8-4a29-91a2-31765c12aa59",
   "metadata": {},
   "source": [
    "As $f_{j, t}$ is a normal random variable, $q_{j, t+\\epsilon} \\mid q_{j, t}$ is also a normal random variable determined by\n",
    "$$\n",
    "\\begin{align*}\n",
    "    p(q_{j, t+\\epsilon} \\mid q_{j, t})\n",
    "&=\n",
    "    \\mathcal{N} \\left( \\mu= q_{j, t} + h_j(\\mathbf{x}_t) \\frac{\\epsilon^2}{m_{j}}, \\sigma^2= k_B \\, T_r \\, \\frac{\\epsilon^2}{m_j} \\right)\n",
    "\\end{align*}\n",
    "$$\n",
    "and $p(\\mathbf{x}_{t+\\epsilon} \\mid \\mathbf{x}_t)$ is completely determined by $p(\\mathbf{q}_{t+\\epsilon} \\mid \\mathbf{q}_t)$, which is calculated by multiplying together all $p(q_{j, t+\\epsilon} \\mid q_{j, t})$ over $j$."
   ]
  },
  {
   "cell_type": "markdown",
   "id": "e6d9049d-5675-44ae-a1c0-dd8f67630a0f",
   "metadata": {},
   "source": [
    "Thus, focusing only on one $p(q_{j, t+\\epsilon} \\mid q_{j, t})$, the gradient sought to calculate the entropic force may be rewritten as follows following the property of a normal distribution.\n",
    "$$\n",
    "\\begin{align*}\n",
    "    \\left.\n",
    "        \\frac{\\partial}{\\partial q_j} \\, p(q_{j, t+\\epsilon} \\mid q_j)\n",
    "    \\right|_{q_t}\n",
    "&=\n",
    "    -\n",
    "    \\left.\n",
    "        \\frac{\\partial}{\\partial q_j} \\, p( q_j \\mid q_{j, t} )\n",
    "    \\right|_{q_{t+\\epsilon}}\n",
    "\\end{align*}\n",
    "$$"
   ]
  },
  {
   "cell_type": "markdown",
   "id": "69cf898e-9061-4d33-ac78-f09e195419f2",
   "metadata": {},
   "source": [
    "Now, as for an arbitrary normal distribution\n",
    "$$\n",
    "\\begin{align*}\n",
    "    \\frac{\\partial}{\\partial x} p(x)\n",
    "    &=\n",
    "    \\frac{\\partial}{\\partial x} \\frac{1}{\\sqrt{2 \\pi} \\sigma} \\exp \\left(- \\frac{(x - \\mu)^2}{2 \\sigma^2} \\right)\n",
    "\\\\\n",
    "    &=\n",
    "    - \\frac{1}{\\sqrt{2 \\pi} \\sigma} \\exp \\left(- \\frac{(x - \\mu)^2}{2 \\sigma^2} \\right)\n",
    "    \\frac{\\partial}{\\partial x} \\frac{(x - \\mu)^2}{2 \\sigma^2}\n",
    "\\\\\n",
    "    &=\n",
    "    - \\frac{1}{\\sqrt{2 \\pi} \\sigma} \\exp \\left(- \\frac{(x - \\mu)^2}{2 \\sigma^2} \\right)\n",
    "    \\frac{x - \\mu}{\\sigma^2}\n",
    "\\\\\n",
    "    &=\n",
    "    - p(x) \\frac{x - \\mu}{\\sigma^2}\n",
    "\\end{align*}\n",
    "$$"
   ]
  },
  {
   "cell_type": "markdown",
   "id": "37855854-1d2e-474a-8550-476be6cff311",
   "metadata": {},
   "source": [
    "so, after substitution the definitions of $\\mu$ and $\\sigma$,\n",
    "$$\n",
    "\\begin{align*}\n",
    "    -\n",
    "    \\left.\n",
    "        \\frac{\\partial}{\\partial q_j} \\, p( q_j \\mid q_{j, t} )\n",
    "    \\right|_{q_{t+\\epsilon}}\n",
    "&=\n",
    "    - p( q_j \\mid q_{j, t} ) \\frac{f_{j,t}}{k_B \\, T_r}\n",
    "\\end{align*}\n",
    "$$\n",
    "<!-- $$\n",
    "\\begin{align*}\n",
    "    -\n",
    "    \\left.\n",
    "        \\frac{\\partial}{\\partial q_j} \\, p(\\mathbf{x}_{t+\\epsilon} \\mid \\{ \\mathbf{q}, \\mathbf{p}_t \\})\n",
    "    \\right|_{\\mathbf{q}_{t+\\epsilon}}\n",
    "&=\n",
    "    - p(\\mathbf{x}_{t+\\epsilon} \\mid \\mathbf{x}_t) \\frac{f_{j,t}}{k_B \\, T_r}\n",
    "\\end{align*}\n",
    "$$ -->"
   ]
  },
  {
   "cell_type": "markdown",
   "id": "add2953b-792a-47c3-8bf9-fc37006173b6",
   "metadata": {},
   "source": [
    "and the causal entropic force on component $j$ is calculated as\n",
    "$$\n",
    "\\begin{align*}\n",
    "    f^{(c)}_j(\\mathbf{x}_t, \\tau)\n",
    "    &= - \\frac{T_c}{T_r}\n",
    "    \\int\n",
    "        f_{j,t} \\,\n",
    "        p(\\mathbf{x}_{t+\\tau} \\mid \\mathbf{x}_t)\n",
    "        \\ln p(\\mathbf{x}_{t+\\tau} \\mid \\mathbf{x}_t)\n",
    "    \\,\\mathrm{d} \\mathbf{x}_{t+\\tau}\n",
    "\\end{align*}\n",
    "$$"
   ]
  },
  {
   "cell_type": "markdown",
   "id": "dfb993c9-a122-436d-8562-cdcd0224b7a0",
   "metadata": {},
   "source": [
    "**Note 2**: As a result of Note 1, my expression for $f^{(c)}_j(\\mathbf{x}_t, \\tau)$ is off by a factor of 2 compared to the original expresision."
   ]
  },
  {
   "cell_type": "markdown",
   "id": "436577fa-f19e-4dc7-9e6e-7065f4fdc938",
   "metadata": {},
   "source": [
    "### An Approximate Calculation for The Causal Entropic Force"
   ]
  },
  {
   "cell_type": "markdown",
   "id": "d0aa2283-d17f-4b0b-bdcf-a725500461b0",
   "metadata": {},
   "source": [
    "The expression derived in the previous section for the causal entropic force requires computing an integral over states.\n",
    "When the states are high-dimensional continuous quantities, an integral over them is intractable.\n",
    "This section presents a Monte-Carlo approach to approximate the integral and is based on page 10 of [[Wissner-Gross & Freer, 2013b]](https://journals.aps.org/prl/supplemental/10.1103/PhysRevLett.110.168702) and Section 3.2 of [[Hornischer, 2015]](https://pure.mpg.de/rest/items/item_2300851/component/file_2300850/content)."
   ]
  },
  {
   "cell_type": "markdown",
   "id": "6bfc84d0-e1ed-4b28-8c8e-f6251c3100dc",
   "metadata": {},
   "source": [
    "Consider $M$ Monte-Carlo samples of $\\mathbf{x}_{t+\\tau}^{(i)}$s for $i$ from $1$ to $M$.\n",
    "For convenience, denote the following conditional likelihood as \n",
    "$$\n",
    "\\begin{align*}\n",
    "    p(\\mathbf{x}_{t+\\tau}^{(i)} \\mid \\mathbf{x}_t)\n",
    "    =\n",
    "    \\frac{1}{M \\, \\Omega_i}\n",
    "\\end{align*}\n",
    "$$"
   ]
  },
  {
   "cell_type": "markdown",
   "id": "2d52c536-1935-4b29-87eb-6c4376bb1b27",
   "metadata": {},
   "source": [
    "The $M$-sample Monte-Carlo estimate of the causal entropic force is\n",
    "$$\n",
    "\\begin{align*}\n",
    "    f^{(c)}_j(\\mathbf{x}_t, \\tau)\n",
    "    &= - \\frac{T_c}{T_r}\n",
    "    \\int\n",
    "        f_{j,t} \\,\n",
    "        p(\\mathbf{x}_{t+\\tau} \\mid \\mathbf{x}_t)\n",
    "        \\ln p(\\mathbf{x}_{t+\\tau} \\mid \\mathbf{x}_t)\n",
    "    \\,\\mathrm{d} \\mathbf{x}_{t+\\tau}\n",
    "\\\\\n",
    "    &= - \\frac{T_c}{T_r} \\,\n",
    "    \\mathbb{E}_{\\mathbf{x}_{t+\\tau} \\sim p(\\mathbf{x}_{t+\\tau} \\mid \\mathbf{x}_t)} [\n",
    "        f_{j,t} \\,\n",
    "        \\ln p(\\mathbf{x}_{t+\\tau} \\mid \\mathbf{x}_t)\n",
    "    ]\n",
    "\\\\\n",
    "    &\\approx - \\frac{T_c}{T_r}\n",
    "    \\frac{1}{M}\n",
    "    \\sum_{i=1}^M\n",
    "        f_{j,t}^{(i)} \\,\n",
    "        \\ln p(\\mathbf{x}_{t+\\tau}^{(i)} \\mid \\mathbf{x}_t)\n",
    "\\\\\n",
    "    &= - \\frac{T_c}{T_r}\n",
    "    \\frac{1}{M}\n",
    "    \\sum_{i=1}^M\n",
    "        f_{j,t}^{(i)} \\,\n",
    "        \\ln \\frac{1}{M \\, \\Omega_i}\n",
    "\\\\\n",
    "    &= \\frac{T_c}{T_r}\n",
    "    \\frac{1}{M}\n",
    "    \\left(\n",
    "    \\sum_{i=1}^M\n",
    "        f_{j,t}^{(i)} \\,\n",
    "        \\ln M\n",
    "    + \\sum_{i=1}^M\n",
    "        f_{j,t}^{(i)} \\,\n",
    "        \\ln \\Omega_i\n",
    "    \\right)\n",
    "\\\\\n",
    "    &\\approx \\frac{T_c}{T_r}\n",
    "    \\frac{1}{M}\n",
    "    \\sum_{i=1}^M\n",
    "        f_{j,t}^{(i)} \\,\n",
    "        \\ln \\Omega_i\n",
    "\\end{align*}\n",
    "$$"
   ]
  },
  {
   "cell_type": "markdown",
   "id": "a19286f6-bdb1-4f29-9962-78a523525603",
   "metadata": {},
   "source": [
    "The first term in the penultimate line disappears because\n",
    "$$\n",
    "\\begin{align*}\n",
    "    \\frac{1}{M}\n",
    "    \\sum_{i=1}^M\n",
    "        f_{j,t}^{(i)}\n",
    "&\\approx\n",
    "    0\n",
    "\\end{align*}\n",
    "$$"
   ]
  },
  {
   "cell_type": "markdown",
   "id": "45a6c17b-3975-4c90-b94d-9b0a469d9dd3",
   "metadata": {},
   "source": [
    "The above approximation also implies that\n",
    "$$\n",
    "\\begin{align*}\n",
    "    \\left(\n",
    "        \\frac{1}{M}\n",
    "        \\sum_{i=1}^M\n",
    "            f_{j,t}^{(i)}\n",
    "    \\right)\n",
    "    \\ln \\sum_{i=1}^M\n",
    "        \\Omega_i\n",
    "\\approx\n",
    "    0\n",
    "\\end{align*}\n",
    "$$"
   ]
  },
  {
   "cell_type": "markdown",
   "id": "5f3c7ab9-55b4-4909-8e71-c86ec237f0f6",
   "metadata": {},
   "source": [
    "so\n",
    "$$\n",
    "\\begin{align*}\n",
    "    \\frac{T_c}{T_r}\n",
    "    \\frac{1}{M}\n",
    "    \\sum_{i=1}^M\n",
    "        f_{j,t}^{(i)} \\,\n",
    "        \\ln \\Omega_i\n",
    "&\\approx\n",
    "    \\frac{T_c}{T_r}\n",
    "    \\frac{1}{M}\n",
    "    \\sum_{i=1}^M\n",
    "        f_{j,t}^{(i)} \\,\n",
    "        \\ln \\Omega_i\n",
    "    -\n",
    "    \\frac{T_c}{T_r}\n",
    "    \\left(\n",
    "        \\frac{1}{M}\n",
    "        \\sum_{i=1}^M\n",
    "            f_{j,t}^{(i)}\n",
    "    \\right)\n",
    "    \\ln \\sum_{i=1}^M\n",
    "        \\Omega_i\n",
    "\\\\\n",
    "&=\n",
    "    \\frac{T_c}{T_r}\n",
    "    \\frac{1}{M}\n",
    "    \\sum_{i=1}^M\n",
    "        f_{j,t}^{(i)}\n",
    "        \\left(\n",
    "            \\ln \\Omega_i\n",
    "            - \\ln \\sum_{i=1}^M\n",
    "                \\Omega_i\n",
    "        \\right)\n",
    "\\\\\n",
    "&=\n",
    "    \\frac{T_c}{T_r}\n",
    "    \\frac{1}{M}\n",
    "    \\sum_{i=1}^M\n",
    "        f_{j,t}^{(i)}\n",
    "        \\ln \\frac{\\Omega_i}{\\sum_{i=1}^M \\Omega_i}\n",
    "\\end{align*}\n",
    "$$"
   ]
  },
  {
   "cell_type": "markdown",
   "id": "c5f08166-14c7-48aa-aeda-57c8e01712ec",
   "metadata": {},
   "source": [
    "and therefore\n",
    "$$\n",
    "\\begin{align*}\n",
    "    f^{(c)}_j(\\mathbf{x}_t, \\tau)\n",
    "&\\approx\n",
    "    \\frac{T_c}{T_r}\n",
    "    \\frac{1}{M}\n",
    "    \\sum_{i=1}^M\n",
    "        f_{j,t}^{(i)}\n",
    "        \\ln \\frac{\\Omega_i}{\\sum_{i=1}^M \\Omega_i}\n",
    "\\end{align*}\n",
    "$$"
   ]
  },
  {
   "cell_type": "markdown",
   "id": "d161d3b8-8c51-4e6d-91cc-2319c90708a2",
   "metadata": {},
   "source": [
    "**Note 3**: I seem to be missing an expectation over the entire term over $f$, and I am not sure why that expectation should be there."
   ]
  },
  {
   "cell_type": "code",
   "execution_count": 6,
   "id": "f183055f-928c-4b8d-b5f8-a6b5d2b1a87b",
   "metadata": {},
   "outputs": [],
   "source": [
    "# # create array of (num_samples, timesteps, q_dim)\n",
    "\n",
    "# num_samples = 1000\n",
    "\n",
    "# q = np.array([L/10., L/10.])\n",
    "# p = np.array([0.   , 0.   ])\n",
    "\n",
    "# qs = np.tile(q[None, :], (num_samples, 1))\n",
    "# ps = np.tile(p[None, :], (num_samples, 1))\n",
    "\n",
    "# paths  = copy.deepcopy(qs[None, :])\n",
    "# all_fs = np.zeros((timesteps, num_samples, 2))\n",
    "\n",
    "# # create MC rollouts producing array (timesteps, num_samples, q_dim)\n",
    "# for i in range(timesteps-1):\n",
    "#     fs = np.random.normal(loc=loc, scale=scale, size=(num_samples, 2))\n",
    "#     gs = - ps / EPSILON + fs\n",
    "\n",
    "#     all_fs[i] = fs\n",
    "\n",
    "#     p_dots = gs\n",
    "#     ps    += p_dots * EPSILON\n",
    "#     # bound the momentum by the maximum momentum\n",
    "#     ps     = np.sign(ps) * np.minimum(p_max, np.abs(ps))\n",
    "    \n",
    "#     q_dots = ps / M\n",
    "#     qs    += q_dots * EPSILON\n",
    "#     # perfectly elastic collisions with walls\n",
    "#     qs  = np.maximum(qs, 2 * Q_MIN - qs)\n",
    "#     ps *= np.sign(qs - Q_MIN)\n",
    "#     qs  = np.minimum(qs, 2 * Q_MAX - qs)\n",
    "#     ps *= np.sign(Q_MAX - qs)\n",
    "\n",
    "#     paths = np.append(paths, qs[None, :], axis=0)"
   ]
  },
  {
   "cell_type": "code",
   "execution_count": 7,
   "id": "f3be3a5c-2028-4896-b7ab-635f9a3b7288",
   "metadata": {},
   "outputs": [],
   "source": [
    "# # Plot the random walks\n",
    "# fig, ax = plt.subplots(figsize=(13, 13))\n",
    "# ax.plot(*paths.T, alpha=0.1)\n",
    "# ax.set_xlim(Q_MIN[0], Q_MAX[0])\n",
    "# ax.set_ylim(Q_MIN[1], Q_MAX[1])\n",
    "# ax.set(aspect='equal')\n",
    "# plt.show()"
   ]
  },
  {
   "cell_type": "code",
   "execution_count": 8,
   "id": "1567d0bf-f586-47b6-941d-d2e59aa66877",
   "metadata": {},
   "outputs": [],
   "source": [
    "# # plot kde of the endpoints and scatter of the endpoints\n",
    "# # Adapted from https://docs.scipy.org/doc/scipy/reference/generated/scipy.stats.gaussian_kde.html\n",
    "\n",
    "# kernel = scipy.stats.gaussian_kde(paths[-1].T)\n",
    "\n",
    "# # estimate pdf\n",
    "# X, Y      = np.mgrid[Q_MIN[0]:Q_MAX[0]:100j, Q_MIN[1]:Q_MAX[1]:100j]\n",
    "# positions = np.vstack([X.ravel(), Y.ravel()])\n",
    "# Z         = np.reshape(kernel(positions), X.shape)\n",
    "\n",
    "# # plot\n",
    "# fig, ax = plt.subplots(figsize=(13, 13))\n",
    "# ax.imshow(np.rot90(Z), cmap=plt.cm.gist_earth_r, extent=[Q_MIN[0], Q_MAX[0], Q_MIN[1], Q_MAX[1]])\n",
    "# ax.scatter(*paths[-1].T, color='k', s=.5, alpha=.3)\n",
    "# ax.set(aspect='equal')\n",
    "# plt.show()"
   ]
  },
  {
   "cell_type": "code",
   "execution_count": 46,
   "id": "c8a181e5-70bf-4f3b-8986-b29967c86b74",
   "metadata": {},
   "outputs": [],
   "source": [
    "def calculate_entropic_force(cur_macrostate_q, cur_macrostate_p, tau=10., num_samples=100_000):\n",
    "    \"\"\"\n",
    "    return (num_samples, timesteps, q_dim) and initial_forces\n",
    "    \"\"\"\n",
    "    # q = np.array([L/10., L/10.])\n",
    "    # p = np.array([0.   , 0.   ])\n",
    "    \n",
    "    qs = np.tile(cur_macrostate_q[None, :], (num_samples, 1))\n",
    "    ps = np.tile(cur_macrostate_p[None, :], (num_samples, 1))\n",
    "    \n",
    "    paths  = copy.deepcopy(qs[None, :])\n",
    "    all_fs = np.zeros((timesteps, num_samples, 2))\n",
    "    \n",
    "    # create MC rollouts producing array (timesteps, num_samples, q_dim)\n",
    "    for i in range(timesteps-1):\n",
    "        fs = np.random.normal(loc=loc, scale=scale, size=(num_samples, 2))\n",
    "        gs = - ps / EPSILON + fs\n",
    "    \n",
    "        all_fs[i] = fs\n",
    "    \n",
    "        p_dots = gs\n",
    "        ps    += p_dots * EPSILON\n",
    "        # bound the momentum by the maximum momentum\n",
    "        ps     = np.sign(ps) * np.minimum(p_max, np.abs(ps))\n",
    "        \n",
    "        q_dots = ps / M\n",
    "        qs    += q_dots * EPSILON\n",
    "        # perfectly elastic collisions with walls\n",
    "        qs  = np.maximum(qs, 2 * Q_MIN - qs)\n",
    "        ps *= np.sign(qs - Q_MIN)\n",
    "        qs  = np.minimum(qs, 2 * Q_MAX - qs)\n",
    "        ps *= np.sign(Q_MAX - qs)\n",
    "    \n",
    "        paths = np.append(paths, qs[None, :], axis=0)\n",
    "\n",
    "    # endpoints  = paths[-1]\n",
    "    # all_points = paths.reshape(-1, 2)\n",
    "\n",
    "    # # calculate log_volume_fractions\n",
    "    # kernel        = scipy.stats.gaussian_kde(all_points.T)\n",
    "    # pdfs          = 1. / kernel.pdf(paths[1].T)\n",
    "    # vol_fracs     = pdfs / pdfs.sum()\n",
    "    # log_vol_fracs = np.log(vol_fracs)\n",
    "\n",
    "    flat_paths    = paths.swapaxes(0, 1).reshape(-1, num_samples)\n",
    "    kernel        = scipy.stats.gaussian_kde(flat_paths)\n",
    "    pdfs          = 1. / kernel.pdf(flat_paths)\n",
    "    vol_fracs     = pdfs / pdfs.sum()\n",
    "    log_vol_fracs = np.log(vol_fracs)\n",
    "\n",
    "    # calculate entropic force\n",
    "    return np.mean(all_fs[0] * log_vol_fracs[:, None], axis=0)"
   ]
  },
  {
   "cell_type": "code",
   "execution_count": null,
   "id": "21dda04b-a427-4e93-9644-8d04ec1ba33c",
   "metadata": {},
   "outputs": [],
   "source": [
    "T_C = 5 * T_R\n",
    "\n",
    "q = np.array([L/10., L/10.])\n",
    "p = np.array([0.   , 0.   ])\n",
    "\n",
    "path = copy.deepcopy(q[None, :])\n",
    "\n",
    "for _ in range(200):\n",
    "    f_c = T_C / T_R * calculate_entropic_force(q, p, num_samples=100_000)\n",
    "    print(q)\n",
    "    g   = - p / EPSILON + f_c\n",
    "\n",
    "    p_dot = g\n",
    "    p    += p_dot * EPSILON\n",
    "    # bound the momentum by the maximum momentum\n",
    "    p     = np.sign(p) * np.minimum(p_max, np.abs(p))\n",
    "    \n",
    "    q_dot = p / M\n",
    "    q    += q_dot * EPSILON\n",
    "    # perfectly elastic collisions with walls\n",
    "    q  = np.maximum(q, 2 * Q_MIN - q)\n",
    "    p *= np.sign(q - Q_MIN)\n",
    "    q  = np.minimum(q, 2 * Q_MAX - q)\n",
    "    p *= np.sign(Q_MAX - q)\n",
    "\n",
    "    path = np.append(path, q[None, :], axis=0)"
   ]
  },
  {
   "cell_type": "code",
   "execution_count": 11,
   "id": "54434948-7f9f-482a-8713-3f093a48327e",
   "metadata": {},
   "outputs": [
    {
     "data": {
      "image/png": "[encoded data removed]",
      "text/plain": [
       "<Figure size 1300x1300 with 1 Axes>"
      ]
     },
     "metadata": {},
     "output_type": "display_data"
    }
   ],
   "source": [
    "fig, ax = plt.subplots(figsize=(13, 13))\n",
    "# ax.add_patch(patches.Rectangle(Q_MIN, L, L/5., edgecolor='k', fill=False)) # from https://stackoverflow.com/a/37437395\n",
    "ax.plot(*path.T)\n",
    "ax.set_xlim(Q_MIN[0], Q_MAX[0])\n",
    "ax.set_ylim(Q_MIN[1], Q_MAX[1])\n",
    "ax.set(aspect='equal')\n",
    "plt.show()"
   ]
  },
  {
   "cell_type": "code",
   "execution_count": 12,
   "id": "6c6fbcab-3400-41aa-b591-13de5ebe6ad4",
   "metadata": {},
   "outputs": [
    {
     "data": {
      "image/png": "[encoded data removed]",
      "text/plain": [
       "<Figure size 1300x1300 with 1 Axes>"
      ]
     },
     "metadata": {},
     "output_type": "display_data"
    }
   ],
   "source": [
    "# create array of (timesteps, num_samples, q_dim)\n",
    "\n",
    "num_samples = 100\n",
    "qs = np.tile(q[None, :], (num_samples, 1))\n",
    "ps = np.tile(p[None, :], (num_samples, 1))\n",
    "\n",
    "paths  = copy.deepcopy(qs[None, :])\n",
    "all_fs = np.zeros((timesteps, num_samples, 2))\n",
    "\n",
    "# create MC rollouts producing array (timesteps, num_samples, q_dim)\n",
    "for i in range(timesteps-1):\n",
    "    fs = np.random.normal(loc=loc, scale=scale, size=(num_samples, 2))\n",
    "    gs = - ps / EPSILON + fs\n",
    "\n",
    "    all_fs[i] = fs\n",
    "\n",
    "    p_dots = gs\n",
    "    ps    += p_dots * EPSILON\n",
    "    # bound the momentum by the maximum momentum\n",
    "    # ps     = np.sign(ps) * np.minimum(p_max, np.abs(ps))\n",
    "    \n",
    "    q_dots = ps / M\n",
    "    qs    += q_dots * EPSILON\n",
    "    # perfectly elastic collisions with walls\n",
    "    qs  = np.maximum(qs, 2 * Q_MIN - qs)\n",
    "    ps *= np.sign(qs - Q_MIN)\n",
    "    qs  = np.minimum(qs, 2 * Q_MAX - qs)\n",
    "    ps *= np.sign(Q_MAX - qs)\n",
    "\n",
    "    paths = np.append(paths, qs[None, :], axis=0)\n",
    "\n",
    "\n",
    "# plot kde of the endpoints and scatter of the endpoints\n",
    "# Adapted from https://docs.scipy.org/doc/scipy/reference/generated/scipy.stats.gaussian_kde.html\n",
    "\n",
    "kernel = scipy.stats.gaussian_kde(paths[-1].T)\n",
    "\n",
    "# estimate pdf\n",
    "X, Y      = np.mgrid[Q_MIN[0]:Q_MAX[0]:100j, Q_MIN[1]:Q_MAX[1]:100j]\n",
    "positions = np.vstack([X.ravel(), Y.ravel()])\n",
    "Z         = np.reshape(kernel(positions), X.shape)\n",
    "\n",
    "# plot\n",
    "fig, ax = plt.subplots(figsize=(13, 13))\n",
    "ax.imshow(np.rot90(Z), cmap=plt.cm.gist_earth_r, extent=[Q_MIN[0], Q_MAX[0], Q_MIN[1], Q_MAX[1]])\n",
    "ax.scatter(*paths[-1].T, color='k', s=.5, alpha=.3)\n",
    "ax.scatter(*q, color='r')\n",
    "ax.set(aspect='equal')\n",
    "plt.show()"
   ]
  },
  {
   "cell_type": "code",
   "execution_count": null,
   "id": "9af37ac6-dffb-49ac-b4cb-b5a1c8e85093",
   "metadata": {},
   "outputs": [],
   "source": []
  },
  {
   "cell_type": "code",
   "execution_count": null,
   "id": "e5ccf3d0-d354-46a0-abaf-4d7e9fbf057a",
   "metadata": {},
   "outputs": [],
   "source": []
  }
 ],
 "metadata": {
  "kernelspec": {
   "display_name": "Python 3 (ipykernel)",
   "language": "python",
   "name": "python3"
  },
  "language_info": {
   "codemirror_mode": {
    "name": "ipython",
    "version": 3
   },
   "file_extension": ".py",
   "mimetype": "text/x-python",
   "name": "python",
   "nbconvert_exporter": "python",
   "pygments_lexer": "ipython3",
   "version": "3.12.7"
  }
 },
 "nbformat": 4,
 "nbformat_minor": 5
}
