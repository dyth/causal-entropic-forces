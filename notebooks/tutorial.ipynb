{
 "cells": [
  {
   "cell_type": "markdown",
   "id": "5e01b067-2163-465d-b937-7ee89dafdbe3",
   "metadata": {},
   "source": [
    "# Explaining Causal Entropic Forces"
   ]
  },
  {
   "cell_type": "markdown",
   "id": "91c3f3b9-6b5e-4a26-9b3d-522830685472",
   "metadata": {},
   "source": [
    "The _Physical Review Letters_ paper Causal Entropic Forces [[Wissner-Gross & Freer, 2013a]](http://math.mit.edu/~freer/papers/PhysRevLett_110-168702.pdf) presents an agent interacting with an environment whose behavior (over time) is governed by a \"causal entropic force\".\n",
    "In physics (and information theory), entropy measures the diversity of states a system can be at any one time.\n",
    "[[Wissner-Gross & Freer, 2013a]](http://math.mit.edu/~freer/papers/PhysRevLett_110-168702.pdf) define the causal entropy of an agent-environment system as the entropy over the environmental futures caused by the agent, and a causal entropic force as a Newtonian force acting on an agent to maximize causal entropy."
   ]
  },
  {
   "cell_type": "markdown",
   "id": "26523efd-f51c-4cf1-bf28-d9e87f9c3e75",
   "metadata": {},
   "source": [
    "The purpose of this tutorial is to explain and (re)implement their algorithm and see in which situations it suceeds and fails.\n",
    "For ease of notation, this tutorial will only cover the simplest experiment presented in [[Wissner-Gross & Freer, 2013a]](http://math.mit.edu/~freer/papers/PhysRevLett_110-168702.pdf) -- the particle in a box.\n",
    "After introducing some notation, I will first describe the behavior of an agent that does not maximize causal entropy, before explaining the mathematics and algorithmic implementation of an agent that does."
   ]
  },
  {
   "cell_type": "markdown",
   "id": "bb2023a1-ca30-440f-9a20-288156d0be04",
   "metadata": {},
   "source": [
    "This tutorial will be written partly in mathematics and in Python and is adapted from:\n",
    "\n",
    "1. Causal Entropic Forces [[Wissner-Gross & Freer, 2013a]](http://math.mit.edu/~freer/papers/PhysRevLett_110-168702.pdf).\n",
    "2. Supplementary Material to Causal Entropic Forces [[Wissner-Gross & Freer, 2013b]](https://journals.aps.org/prl/supplemental/10.1103/PhysRevLett.110.168702).\n",
    "3. Comment: Causal entropic forces [[Kappen, 2013]](https://arxiv.org/abs/1312.4185).\n",
    "4. Causal Entropic Forces: Intelligent Behaviour, Dynamics and Pattern Formation [[Hornischer, 2015]](https://pure.mpg.de/rest/items/item_2300851/component/file_2300850/content).\n",
    "5. Fractal AI: A fragile theory of intelligence [[Cerezo & Ballester, 2018]](https://arxiv.org/abs/1803.05049)."
   ]
  },
  {
   "cell_type": "markdown",
   "id": "eeb1c9e4-3792-401c-be54-49fc13b3d6a1",
   "metadata": {},
   "source": [
    "See `notebooks/README.md` for installation instructions on how to run this notebook."
   ]
  },
  {
   "cell_type": "markdown",
   "id": "d2b2f65b-c8ae-4ed5-a16b-03785edfb867",
   "metadata": {},
   "source": [
    "## Notation"
   ]
  },
  {
   "cell_type": "markdown",
   "id": "989e4af9-b40c-4a8c-9ac3-ba480a86242c",
   "metadata": {},
   "source": [
    "In mathematics, we follow the popular physical notation and use lowercase $x$ for scalars, bold lowercase $\\mathbf{x}$ for vectors and bold uppercase $\\mathbf{X}$ for matrices."
   ]
  },
  {
   "cell_type": "markdown",
   "id": "4040e344-7e8a-4493-9993-ef89839b2af2",
   "metadata": {},
   "source": [
    "I will refer to an agent whose behavior is guided by a random number generator and not a causal entropic force as a random agent, and an agent whose behavior purposefully maximizes causal entropy as a causal-entropic agent.\n",
    "I am not aware that these term were used for such descriptive purposes in any of the five references above, but [[Wissner-Gross, 2013]](https://www.youtube.com/watch?v=rZB8TNaG-ik) describes an agent that maximizes a causal entropic force as \"Entropica\"."
   ]
  },
  {
   "cell_type": "markdown",
   "id": "12741ef6-7c10-4c7b-af0f-03a9bfdb3c7f",
   "metadata": {},
   "source": [
    "An agent is individually situated in a physical system whose state at time $t$ is described by a phase space $\\mathbf{x}_t = \\{ \\mathbf{q}_t, \\mathbf{p}_t \\}$, where $\\mathbf{q}$ and $\\mathbf{p}$ are respectively position and momentum vectors that have the same number of elements.\n",
    "Note that in the particle-in-a-box experiment that there is only one agent in the environment."
   ]
  },
  {
   "cell_type": "markdown",
   "id": "e157da9d-e806-448c-b788-32aa5c66cde8",
   "metadata": {},
   "source": [
    "## A Random Agent"
   ]
  },
  {
   "cell_type": "markdown",
   "id": "3b6246a9-333a-43db-b2bd-bcd4535ff5a8",
   "metadata": {},
   "source": [
    "A random agent causes the state component $j$ to evolve through time following the Langevin dynamics of\n",
    "$$\n",
    "\\begin{align*}\n",
    "    \\dot{p}_{j, t}\n",
    "    &=\n",
    "    g_j(\\mathbf{x}_t, t)\n",
    "\\\\\n",
    "    \\dot{q}_{j, t}\n",
    "    &=\n",
    "    \\frac{p_{j, t}}{m_{j}}\n",
    "\\end{align*}\n",
    "$$\n",
    "where $m_j$ is the effective mass of component $j$."
   ]
  },
  {
   "cell_type": "markdown",
   "id": "2a1e5c4b-db71-4612-9d1a-3be702aec12c",
   "metadata": {},
   "source": [
    "$g_j(\\mathbf{x}_t, t)$ is the energetic force of component $j$ and evolves in discrete timesteps of duration $\\epsilon$ following\n",
    "$$\n",
    "\\begin{align*}\n",
    "    g_j(\\mathbf{x}_t, t)\n",
    "    =\n",
    "    - \\frac{1}{\\epsilon} \\, p_j \\left( \\left\\lfloor \\frac{t}{\\epsilon} \\right\\rfloor \\epsilon \\right)\n",
    "    + f_j \\left( \\left\\lfloor \\frac{t}{\\epsilon} \\right\\rfloor \\epsilon \\right)\n",
    "    + h_j \\left( \\mathbf{x}_t \\right)\n",
    "\\end{align*}\n",
    "$$\n",
    "where $h_j$ are deterministic state-dependent internal system forces and $f_j \\sim \\mathcal{N} \\left(\\mu = 0, \\sigma = \\frac{1}{\\epsilon} \\sqrt{m_j \\, k_B \\, T_r} \\right)$ is a random variable sampled iid at every timestep at every $j$, with $T_r$ the temperature of the heat reservoir of the system.\n",
    "\n",
    "The use of the random variable $f_j$ in this agent is what gives the random agent its name."
   ]
  },
  {
   "cell_type": "markdown",
   "id": "ed01a812-994f-4f0f-a5eb-134c29d0cacd",
   "metadata": {},
   "source": [
    "The following code visualizes how the energetic force drives the evolution of a random agent in the particle-in-a-box physical system."
   ]
  },
  {
   "cell_type": "code",
   "execution_count": 1,
   "id": "baecfd9f-5dfa-443a-bede-64cb6516225c",
   "metadata": {},
   "outputs": [],
   "source": [
    "import numpy as np\n",
    "import scipy\n",
    "\n",
    "from matplotlib import pyplot as plt\n",
    "from matplotlib import patches as patches\n",
    "from matplotlib import cm\n",
    "\n",
    "import copy"
   ]
  },
  {
   "cell_type": "code",
   "execution_count": 2,
   "id": "7863dd4c-196a-447b-8ec2-a3d10547d6af",
   "metadata": {},
   "outputs": [],
   "source": [
    "np.random.seed(0)"
   ]
  },
  {
   "cell_type": "code",
   "execution_count": 3,
   "id": "02cd6e86-c50c-4e76-af32-ddb2a375e25b",
   "metadata": {},
   "outputs": [],
   "source": [
    "EPSILON = .025\n",
    "M       = 1e-21\n",
    "T_R     = 4e5\n",
    "K_B     = scipy.constants.Boltzmann\n",
    "TAU     = 10.\n",
    "\n",
    "L     = 400\n",
    "Q_MIN = np.array([0., 0.  ])\n",
    "Q_MAX = np.array([L , L/5.])\n",
    "\n",
    "p_max = M * np.abs(Q_MAX - Q_MIN) / EPSILON\n",
    "\n",
    "loc   = 0.\n",
    "scale = np.sqrt(M * K_B * T_R) / EPSILON\n",
    "\n",
    "timesteps = int(TAU / EPSILON)"
   ]
  },
  {
   "cell_type": "code",
   "execution_count": 26,
   "id": "bc3a478c-357d-491b-8090-fe11e398ee1f",
   "metadata": {},
   "outputs": [],
   "source": [
    "q = np.array([L/10., L/10.])\n",
    "p = np.array([0.   , 0.   ])\n",
    "\n",
    "path = copy.deepcopy(q[None, :])\n",
    "\n",
    "for _ in range(timesteps-1):\n",
    "    f = np.random.normal(loc=loc, scale=scale, size=(2,))\n",
    "    g = - p / EPSILON + f\n",
    "\n",
    "    p_dot = g\n",
    "    p    += p_dot * EPSILON\n",
    "    # bound the momentum by the maximum momentum\n",
    "    p     = np.sign(p) * np.minimum(p_max, np.abs(p))\n",
    "    \n",
    "    q_dot = p / M\n",
    "    q    += q_dot * EPSILON\n",
    "    # perfectly elastic collisions with walls\n",
    "    q  = np.maximum(q, 2 * Q_MIN - q)\n",
    "    p *= np.sign(q - Q_MIN)\n",
    "    q  = np.minimum(q, 2 * Q_MAX - q)\n",
    "    p *= np.sign(Q_MAX - q)\n",
    "\n",
    "    path = np.append(path, q[None, :], axis=0)"
   ]
  },
  {
   "cell_type": "code",
   "execution_count": 27,
   "id": "cf972b75-c272-4b48-ae35-460fe6162176",
   "metadata": {},
   "outputs": [
    {
     "data": {
      "image/png": "[encoded data removed]",
      "text/plain": [
       "<Figure size 1300x1300 with 1 Axes>"
      ]
     },
     "metadata": {},
     "output_type": "display_data"
    }
   ],
   "source": [
    "# Adapted from https://stackoverflow.com/a/37437395\n",
    "fig, ax = plt.subplots(figsize=(13, 13))\n",
    "rect    = patches.Rectangle(Q_MIN, L, L/5., edgecolor='k', fill=False)\n",
    "ax.plot(*path.T)\n",
    "ax.add_patch(rect)\n",
    "ax.set(aspect='equal')\n",
    "plt.show()"
   ]
  },
  {
   "cell_type": "markdown",
   "id": "968728f9-c73d-49ed-a342-3b4a64a5830f",
   "metadata": {},
   "source": [
    "## A Causal Entropic Agent"
   ]
  },
  {
   "cell_type": "markdown",
   "id": "6161f6b1-0d73-4fa2-bfd3-0fb5392a677b",
   "metadata": {},
   "source": [
    "Component $j$ of the physical system evolves through time following\n",
    "$$\n",
    "\\begin{align*}\n",
    "    \\dot{p}_{j, t}\n",
    "    &=\n",
    "    \\mathbb{E}_{} []\n",
    "\\\\\n",
    "    \\dot{q}_{j, t}\n",
    "    &=\n",
    "    \\frac{p_{j, t}}{m_{j}}\n",
    "\\end{align*}\n",
    "$$\n",
    "where $m_j$ is the effective mass of component $j$."
   ]
  },
  {
   "cell_type": "code",
   "execution_count": null,
   "id": "bd9a4032-4b35-446a-b84f-47f17ea219b8",
   "metadata": {},
   "outputs": [],
   "source": []
  },
  {
   "cell_type": "code",
   "execution_count": null,
   "id": "7565ef33-b4a7-45d5-95b3-c9fa96e75ae5",
   "metadata": {},
   "outputs": [],
   "source": []
  },
  {
   "cell_type": "code",
   "execution_count": null,
   "id": "68144071-1cbb-420e-ac91-0a9aded1737c",
   "metadata": {},
   "outputs": [],
   "source": []
  },
  {
   "cell_type": "code",
   "execution_count": null,
   "id": "c73d57dc-e569-4ea1-ada3-0f54321b9db0",
   "metadata": {},
   "outputs": [],
   "source": []
  },
  {
   "cell_type": "markdown",
   "id": "6a4ec235-ef9f-493f-9ca1-5178fde01ef5",
   "metadata": {},
   "source": [
    "## A Causal Entropic Force"
   ]
  },
  {
   "cell_type": "markdown",
   "id": "3e7bcb78-0818-4e40-96b3-e605ba9a166d",
   "metadata": {},
   "source": [
    "The causal entropy on state $\\mathbf{x}_t$ exerted by $\\tau$ timesteps is\n",
    "$$\n",
    "\\begin{align*}\n",
    "    s(\\mathbf{x}_t, \\tau) =\n",
    "    - k_B \\,\n",
    "    \\mathbb{E}_{\\mathbf{x}_{t+\\tau} \\sim p(\\mathbf{x}_{t+\\tau} \\mid \\mathbf{x}_t)}\n",
    "    \\left[\n",
    "        \\ln p(\\mathbf{x}_{t+\\tau} \\mid \\mathbf{x}_t)\n",
    "    \\right]\n",
    "\\end{align*}\n",
    "$$\n",
    "where $k_B$ is the Boltzmann constant."
   ]
  },
  {
   "cell_type": "markdown",
   "id": "8ee83bd2-7b6e-414b-9b0f-f9d1fefbeab0",
   "metadata": {},
   "source": [
    "The probability distribution over states $\\tau$ timesteps from $t$ is\n",
    "$$\n",
    "\\begin{align*}\n",
    "    p(\\mathbf{x}_{t+\\tau} \\mid \\mathbf{x}_t) = \n",
    "    \\int p(\\mathbf{x}_{t+\\tau}, \\mathbf{x}_{t:t+\\tau} \\mid \\mathbf{x}_t) \\,\\mathrm{d}\\mathbf{x}_{t:t+\\tau}\n",
    "\\end{align*}\n",
    "$$\n",
    "where $\\mathbf{x}_{t:t+\\tau}$ denotes all possible paths from $\\mathbf{x}_t$ to $\\mathbf{x}_{t+\\tau}$."
   ]
  },
  {
   "cell_type": "markdown",
   "id": "85aefbe4-68e4-4a44-a570-75b033a7ccee",
   "metadata": {},
   "source": [
    "The causal entropic force at state $\\mathbf{x}_t$ exerted by $\\tau$ timesteps with temperature $T_c$ is\n",
    "$$\n",
    "\\begin{align*}\n",
    "    \\mathbf{f}_c(\\mathbf{x}_t, \\tau) = T_c \\, \\left. \\nabla_{\\mathbf{x}} s(\\mathbf{x}, \\tau) \\right|_{\\mathbf{x}_t}\n",
    "\\end{align*}\n",
    "$$"
   ]
  },
  {
   "cell_type": "markdown",
   "id": "0991e724-a876-4fe4-a8c8-08589cb9da7c",
   "metadata": {},
   "source": [
    "The causal entropic force is determined by the average behavior of how the physical system would have evolved.\n",
    "The evolution of the physical system is specified by Langevin dynamics."
   ]
  },
  {
   "cell_type": "markdown",
   "id": "e39805d0-aacd-4546-897b-96cf99130151",
   "metadata": {},
   "source": [
    "## The Causal Entropic Force with Normal Noise "
   ]
  },
  {
   "cell_type": "code",
   "execution_count": null,
   "id": "90e5c2fa-3127-444a-ab77-21785b12f36f",
   "metadata": {},
   "outputs": [],
   "source": []
  }
 ],
 "metadata": {
  "kernelspec": {
   "display_name": "Python 3 (ipykernel)",
   "language": "python",
   "name": "python3"
  },
  "language_info": {
   "codemirror_mode": {
    "name": "ipython",
    "version": 3
   },
   "file_extension": ".py",
   "mimetype": "text/x-python",
   "name": "python",
   "nbconvert_exporter": "python",
   "pygments_lexer": "ipython3",
   "version": "3.12.7"
  }
 },
 "nbformat": 4,
 "nbformat_minor": 5
}
