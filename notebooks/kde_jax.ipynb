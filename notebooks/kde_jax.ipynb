{
 "cells": [
  {
   "cell_type": "code",
   "execution_count": null,
   "id": "0f646f95-617e-4a71-bcc8-a4be9afae454",
   "metadata": {},
   "outputs": [],
   "source": [
    "# create array of (timesteps, num_samples, q_dim)\n",
    "\n",
    "num_samples = 100_000\n",
    "qs = np.tile(q[None, :], (num_samples, 1))\n",
    "ps = np.tile(p[None, :], (num_samples, 1))\n",
    "\n",
    "paths  = copy.deepcopy(qs[None, :])\n",
    "all_fs = np.zeros((timesteps, num_samples, 2))\n",
    "\n",
    "# create MC rollouts producing array (timesteps, num_samples, q_dim)\n",
    "for i in range(timesteps-1):\n",
    "    fs = np.random.normal(loc=loc, scale=scale, size=(num_samples, 2))\n",
    "    gs = - ps / EPSILON + fs\n",
    "\n",
    "    all_fs[i] = fs\n",
    "\n",
    "    p_dots = gs\n",
    "    ps    += p_dots * EPSILON\n",
    "    # bound the momentum by the maximum momentum\n",
    "    # ps     = np.sign(ps) * np.minimum(p_max, np.abs(ps))\n",
    "    \n",
    "    q_dots = ps / M\n",
    "    qs    += q_dots * EPSILON\n",
    "    # perfectly elastic collisions with walls\n",
    "    qs  = np.maximum(qs, 2 * Q_MIN - qs)\n",
    "    ps *= np.sign(qs - Q_MIN)\n",
    "    qs  = np.minimum(qs, 2 * Q_MAX - qs)\n",
    "    ps *= np.sign(Q_MAX - qs)\n",
    "\n",
    "    paths = np.append(paths, qs[None, :], axis=0)\n",
    "\n",
    "# remove the first state because we calculate conditional density\n",
    "paths = paths[1:]"
   ]
  }
 ],
 "metadata": {
  "kernelspec": {
   "display_name": "Python 3 (ipykernel)",
   "language": "python",
   "name": "python3"
  },
  "language_info": {
   "codemirror_mode": {
    "name": "ipython",
    "version": 3
   },
   "file_extension": ".py",
   "mimetype": "text/x-python",
   "name": "python",
   "nbconvert_exporter": "python",
   "pygments_lexer": "ipython3",
   "version": "3.12.7"
  }
 },
 "nbformat": 4,
 "nbformat_minor": 5
}
