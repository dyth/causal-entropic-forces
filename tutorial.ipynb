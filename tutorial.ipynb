{
 "cells": [
  {
   "cell_type": "markdown",
   "id": "935dfbcd-a0cc-4309-92d2-76466dd3e100",
   "metadata": {},
   "source": [
    "# Causal Entropic Forces"
   ]
  },
  {
   "cell_type": "markdown",
   "id": "abb2a7d2-15e4-4d15-bd83-9b2fc499c665",
   "metadata": {},
   "source": [
    "_Causal Entropic Forces_ [[Wissner-Gross & Freer, 2013a]](http://math.mit.edu/~freer/papers/PhysRevLett_110-168702.pdf) is a 2013 paper by [Alexander Wissner-Gross](https://www.alexwg.org/) and [Cameron Freer](https://www.cfreer.org/). The paper describes an agent that takes actions to maximize the diversity of future paths in an environment. The authors argue that such behavior mathematically formalizes the word \"intelligence\"—and justify their argument with computer simulations showing that intelligent behaviors of tool use and multi-agent cooperation emerge from maximizing causal entropy."
   ]
  },
  {
   "cell_type": "markdown",
   "id": "ea719d43-5cde-45c2-8da9-b07d5c61bf1f",
   "metadata": {},
   "source": [
    "In this writeup, I use Python to reimplement the _Causal Entropic Forces_ agent in the simplest environment described in the paper: the particle-in-a-box. Under causal entropic forcing, a particle moves to the center of the box over time. My implementation differs from the original in three respects:\n",
    "1. Use of a prefactor\n",
    "2. Path subsampling (suggested by Google Gemini)\n",
    "3. A different kernel and bandwidth used in kernel density estimation"
   ]
  },
  {
   "cell_type": "markdown",
   "id": "814201cb-1ad5-463a-bb99-38942e4f99c5",
   "metadata": {},
   "source": [
    "The following works helped me better understand the original paper:\n",
    "\n",
    "1. Causal Entropic Forces [[Wissner-Gross & Freer, 2013a]](http://math.mit.edu/~freer/papers/PhysRevLett_110-168702.pdf).\n",
    "2. Supplementary Material to Causal Entropic Forces [[Wissner-Gross & Freer, 2013b]](https://journals.aps.org/prl/supplemental/10.1103/PhysRevLett.110.168702).\n",
    "3. Comment: Causal entropic forces [[Kappen, 2013]](https://arxiv.org/abs/1312.4185).\n",
    "4. Causal Entropic Forces: Intelligent Behaviour, Dynamics and Pattern Formation [[Hornischer, 2015]](https://pure.mpg.de/rest/items/item_2300851/component/file_2300850/content).\n",
    "5. Fractal AI: A fragile theory of intelligence [[Cerezo & Ballester, 2018]](https://arxiv.org/abs/1803.05049).\n",
    "\n",
    "I have used a different mathematical notation to that in _Causal Entropic Forces_, inspired in part by some of the above works."
   ]
  },
  {
   "cell_type": "markdown",
   "id": "3eff16f0-515d-4f2e-85a1-d781a9f68a5d",
   "metadata": {},
   "source": [
    "I first import Python libraries"
   ]
  },
  {
   "cell_type": "code",
   "execution_count": 1,
   "id": "fbc518e2-3833-404d-a21e-56d1e3edc0cf",
   "metadata": {},
   "outputs": [],
   "source": [
    "import numpy as np\n",
    "import scipy\n",
    "\n",
    "from matplotlib import pyplot as plt\n",
    "from matplotlib import patches as patches\n",
    "from matplotlib import cm\n",
    "\n",
    "import copy"
   ]
  },
  {
   "cell_type": "markdown",
   "id": "ce84800a-cbf0-49ad-984b-2cdae38b3571",
   "metadata": {},
   "source": [
    "set a seed and datatype"
   ]
  },
  {
   "cell_type": "code",
   "execution_count": 2,
   "id": "2e73c83a-b74e-4527-97a2-61ed44d85346",
   "metadata": {},
   "outputs": [],
   "source": [
    "np.random.seed(0)\n",
    "\n",
    "dtype = np.float32"
   ]
  },
  {
   "cell_type": "markdown",
   "id": "3b083688-6bb5-4c5e-958b-97322f07109b",
   "metadata": {},
   "source": [
    "and specify hyperparameters as described"
   ]
  },
  {
   "cell_type": "code",
   "execution_count": 3,
   "id": "1c856b09-9371-40c5-aa12-5bba83334967",
   "metadata": {},
   "outputs": [],
   "source": [
    "EPSILON = .025                              # timesteps (seconds)\n",
    "M       = 1e-21                             # mass (kg)\n",
    "T_R     = 4e5                               # temperature of random agent (Kelvins)\n",
    "T_C     = 2e6                               # temperature of causal agent (Kelvins)\n",
    "K_B     = scipy.constants.Boltzmann         # Boltzmann constant (J/K, or m^2 kg / s^2 K)\n",
    "TAU     = 10.                               # simulation time horizon\n",
    "\n",
    "L       = 400                               # length (meters) \n",
    "Q_MIN   = np.array([0., 0.  ], dtype=dtype) # minimum box displacement\n",
    "Q_MAX   = np.array([L , L/5.], dtype=dtype) # maximum box displacement"
   ]
  },
  {
   "cell_type": "code",
   "execution_count": 4,
   "id": "de44d53e-c55f-43c0-99cb-c8ca00fbd2ed",
   "metadata": {},
   "outputs": [],
   "source": [
    "NUM_SUBSAMPLES = 3"
   ]
  },
  {
   "cell_type": "code",
   "execution_count": 5,
   "id": "662b1dce-e379-4370-a479-cda4127fae77",
   "metadata": {},
   "outputs": [],
   "source": [
    "timesteps = int(TAU / EPSILON)"
   ]
  },
  {
   "cell_type": "markdown",
   "id": "33278ff5-dafe-4a50-ae24-3d5d1aece695",
   "metadata": {},
   "source": [
    "## Mathematical Background"
   ]
  },
  {
   "cell_type": "markdown",
   "id": "24bfa83d-a132-4900-80c0-a5cf08f35f04",
   "metadata": {},
   "source": [
    "_Causal Entropic Forces_ uses thermodynamics to describe an agent-environment system.\n",
    "At time $t$ the agent-environment is described by a phase space $\\mathbf{x}_t = \\{ \\mathbf{q}_t, \\mathbf{p}_t \\}$, where $\\mathbf{q}$ is a position vector and $\\mathbf{p}$ is a momentum vector."
   ]
  },
  {
   "cell_type": "markdown",
   "id": "a23ecba2-533f-41f5-ae4a-9fd583c7f2d7",
   "metadata": {},
   "source": [
    "If the agent does not act under a causal entropic force, Wissner-Gross & Freer [[2013b](https://journals.aps.org/prl/supplemental/10.1103/PhysRevLett.110.168702), [2013a, p. 2, col. 2](http://math.mit.edu/~freer/papers/PhysRevLett_110-168702.pdf)] state that the agent-environment phase space evolves following the Langevin dynamics of\n",
    "$$\n",
    "\\begin{align*}\n",
    "    \\mathbf{p}_t\n",
    "    &=\n",
    "    \\mathbf{f} \\left( \\left\\lfloor \\frac{t}{\\epsilon} \\right\\rfloor \\epsilon \\right)\n",
    "    + \\mathbf{h} \\left( \\mathbf{x}_t \\right)\n",
    "\\\\\n",
    "    \\dot{\\mathbf{q}}_t\n",
    "    &=\n",
    "    \\frac{\\mathbf{p}_t}{m}\n",
    "\\end{align*}\n",
    "$$"
   ]
  },
  {
   "cell_type": "markdown",
   "id": "ba7d14ed-d2bd-4982-8b3f-3f67779b2531",
   "metadata": {},
   "source": [
    "where\n",
    "* $\\epsilon$ is the time between two timesteps abstracting the time-evolution into discrete chunks\n",
    "* $h$ handles forces imposed on the agent by the system (the perfectly elastic collisions of the particle against a wall)\n",
    "* $f \\sim \\mathcal{N} \\left(\\mu = 0, \\sigma = \\frac{\\sqrt{m_j \\, k_B \\, T_r}}{\\epsilon} \\right)$ [https://math.stackexchange.com/a/1426406] sampled for every timestep and vector element, calculated with the Boltzmann constant $k_B$ and the environment temperature $T_r$.\n",
    "* $m$ is the mass of the particle"
   ]
  },
  {
   "cell_type": "markdown",
   "id": "fa00fe2b-a242-4995-b328-2358c95ff68f",
   "metadata": {},
   "source": [
    "The following five cells specify the Langevin dynamics of a random agent"
   ]
  },
  {
   "cell_type": "code",
   "execution_count": 6,
   "id": "4b67a8d9-7d7f-4375-b9a9-b2049ab6cf4c",
   "metadata": {},
   "outputs": [],
   "source": [
    "def generate_fs(num_samples):\n",
    "    return np.random.normal( loc   = 0. ,\n",
    "                             scale = np.sqrt(M * K_B * T_R) / EPSILON ,\n",
    "                             size  = (num_samples, 2) ).astype(dtype)"
   ]
  },
  {
   "cell_type": "code",
   "execution_count": 7,
   "id": "93ac1073-cfcf-4ed6-a4d7-f5b9c51fb8d4",
   "metadata": {},
   "outputs": [],
   "source": [
    "def update_momentum(p, force):\n",
    "    p     = force * EPSILON\n",
    "    p_max = M * np.abs(Q_MAX - Q_MIN) / EPSILON\n",
    "    return np.sign(p) * np.minimum(p_max, np.abs(p))"
   ]
  },
  {
   "cell_type": "code",
   "execution_count": 8,
   "id": "e6838845-2360-4055-a084-6f4dd460bdce",
   "metadata": {},
   "outputs": [],
   "source": [
    "def update_position(q, p):\n",
    "    return q  +  EPSILON * p / M"
   ]
  },
  {
   "cell_type": "code",
   "execution_count": 9,
   "id": "0940ebae-a63e-4888-aa16-d449d65cea02",
   "metadata": {},
   "outputs": [],
   "source": [
    "def elastic_collisions(p, q):\n",
    "    q  = np.maximum(q, 2 * Q_MIN - q)\n",
    "    p *= np.sign(q - Q_MIN)\n",
    "    q  = np.minimum(q, 2 * Q_MAX - q)\n",
    "    p *= np.sign(Q_MAX - q)\n",
    "    return p, q"
   ]
  },
  {
   "cell_type": "code",
   "execution_count": 10,
   "id": "39f8a1ec-66e1-4fa0-94df-cb202ea12e0d",
   "metadata": {},
   "outputs": [],
   "source": [
    "def update_phase_space(p, q, f):\n",
    "    p    = update_momentum(p, f)\n",
    "    q    = update_position(q, p)\n",
    "    p, q = elastic_collisions(p, q)\n",
    "    return p, q"
   ]
  },
  {
   "cell_type": "markdown",
   "id": "634e9be6-cba6-4431-9680-3bff9e472035",
   "metadata": {},
   "source": [
    "The Langevin dynamics are calculated for $\\tau / \\epsilon$ timesteps, where $\\tau$ is the time-horizon of the simulation [[Wissner-Gross & Freer 2013b, p. 2]](https://journals.aps.org/prl/supplemental/10.1103/PhysRevLett.110.168702). A rollout is a simulation of Langevin dyanmics for a finite number of timesteps. The following function calculates rollouts of Langevin dynamics in parallel."
   ]
  },
  {
   "cell_type": "code",
   "execution_count": 11,
   "id": "3d570d67-a352-4f88-bf2a-74b5444d2f29",
   "metadata": {},
   "outputs": [],
   "source": [
    "def rollouts(p, q, num_samples):\n",
    "    \"\"\"\n",
    "    paths.shape = (timesteps, num_samples, q_dim)\n",
    "    \"\"\"\n",
    "    ps = np.tile(p[None, :], (num_samples, 1))\n",
    "    qs = np.tile(q[None, :], (num_samples, 1))\n",
    "\n",
    "    paths = copy.deepcopy(qs[None, :])\n",
    "\n",
    "    fs       = generate_fs(num_samples)\n",
    "    first_fs = copy.deepcopy(fs)\n",
    "    \n",
    "    for i in range(timesteps):\n",
    "        ps, qs = update_phase_space(ps, qs, fs)\n",
    "        paths  = np.append(paths, qs[None, :], axis=0)\n",
    "        fs     = generate_fs(num_samples)\n",
    "\n",
    "    return paths, first_fs"
   ]
  },
  {
   "cell_type": "markdown",
   "id": "d098ff65-3dc7-4c9b-9256-2c85fbc6e5fd",
   "metadata": {},
   "source": [
    "Visualize 1000 rollouts starting from the center of the box in 2D:"
   ]
  },
  {
   "cell_type": "code",
   "execution_count": 12,
   "id": "1f3cd5c4-f70a-417b-823c-ac3740d6ecfa",
   "metadata": {},
   "outputs": [],
   "source": [
    "# num_samples = 1000\n",
    "\n",
    "# p = np.array([0.   , 0.   ])\n",
    "# # q = np.array([L/10., L/10.])\n",
    "# q = np.array([L/2., L/10.])\n",
    "\n",
    "# paths, _ = rollouts(p, q, num_samples)"
   ]
  },
  {
   "cell_type": "code",
   "execution_count": 13,
   "id": "36f75804-9dfc-49dd-a4e0-57b9d9104ca2",
   "metadata": {},
   "outputs": [],
   "source": [
    "# # Plot the random walks\n",
    "# fig, ax = plt.subplots(figsize=(13, 13))\n",
    "# ax.plot(*paths.swapaxes(0, 1).T, alpha=0.5)\n",
    "# ax.set_xlim(Q_MIN[0], Q_MAX[0])\n",
    "# ax.set_ylim(Q_MIN[1], Q_MAX[1])\n",
    "# ax.set(aspect='equal')\n",
    "# plt.show()"
   ]
  },
  {
   "cell_type": "markdown",
   "id": "18093461-cae0-42b2-8f62-9fce959896b0",
   "metadata": {},
   "source": [
    "and in 3D with time as the vertical axis"
   ]
  },
  {
   "cell_type": "code",
   "execution_count": 14,
   "id": "aab8279e-1700-49f5-b00a-19fcce98a32d",
   "metadata": {},
   "outputs": [],
   "source": [
    "# # Adapted from https://jakevdp.github.io/PythonDataScienceHandbook/04.12-three-dimensional-plotting.html\n",
    "# ax = plt.axes(projection='3d')\n",
    "# for ns in range(num_samples):\n",
    "#     ax.plot3D( paths.swapaxes(0, 1).T[0, :, ns] ,\n",
    "#                paths.swapaxes(0, 1).T[1, :, ns] ,\n",
    "#                np.arange(1 + TAU / EPSILON) * EPSILON ,\n",
    "#                alpha=.5 )\n",
    "# ax.view_init(20, -70)"
   ]
  },
  {
   "cell_type": "markdown",
   "id": "16eabe01-02df-46a2-b45c-012dc14bc440",
   "metadata": {},
   "source": [
    "## Causal Entropic Forcing"
   ]
  },
  {
   "cell_type": "markdown",
   "id": "f6adce98-c965-4a12-9af6-0492d24bfa8b",
   "metadata": {},
   "source": [
    "Causal entropic forcing changes an agent's momentum by\n",
    "$$\n",
    "\\begin{align*}\n",
    "    \\mathbf{p}_t\n",
    "    &=\n",
    "    \\mathbf{h} \\left( \\mathbf{x}_t \\right)\n",
    "    +\n",
    "    \\mathbf{f}^{(c)}(\\mathbf{x}_t, \\tau)\n",
    "\\end{align*}\n",
    "$$"
   ]
  },
  {
   "cell_type": "markdown",
   "id": "657f77e5-2fb1-493f-8cbc-389bf17dc52d",
   "metadata": {},
   "source": [
    "Here\n",
    "$$\n",
    "\\begin{align*}\n",
    "    \\mathbf{f}^{(c)}(\\mathbf{x}_t, \\tau) = T_c \\, \\left. \\nabla_{\\mathbf{x}} \\, s(\\mathbf{x}, \\tau) \\right|_{\\mathbf{x}_t}\n",
    "\\end{align*}\n",
    "$$\n",
    "is the causal entropic force on $\\mathbf{x}_t$ with a time-horizon of $\\tau$"
   ]
  },
  {
   "cell_type": "markdown",
   "id": "ac877c28-9ae0-4c15-b1ea-ba8caeb98040",
   "metadata": {},
   "source": [
    "The causal entropic force is calculated from\n",
    "* $T_c$: the temperature of the environment when causal entropic forcing is performed\n",
    "* $s(\\mathbf{x}_t, \\tau)$: the causal entropy on $\\mathbf{x}_t$ with time-horizon $\\tau$ "
   ]
  },
  {
   "cell_type": "markdown",
   "id": "f2d2176c-3ff9-4cdf-95ad-c72ebb02c802",
   "metadata": {},
   "source": [
    "Causal entropy is defined by\n",
    "$$\n",
    "\\begin{align*}\n",
    "    s(\\mathbf{x}_t, \\tau) =\n",
    "    - k_B \\,\n",
    "    \\mathbb{E}_{p(\\mathbf{x}_{t:t+\\tau} \\mid \\mathbf{x}_t)}\n",
    "    \\left[\n",
    "        \\ln p(\\mathbf{x}_{t:t+\\tau} \\mid \\mathbf{x}_t)\n",
    "    \\right]\n",
    "\\end{align*}\n",
    "$$\n",
    "where $\\mathbf{x}_{t:t+\\tau}$ is a path in phase space from time $t$ to $t+\\tau$."
   ]
  },
  {
   "cell_type": "markdown",
   "id": "b1158905-5086-435c-bcba-dbd30b7e8fec",
   "metadata": {},
   "source": [
    "### Calculating The Causal Entropic Force"
   ]
  },
  {
   "cell_type": "markdown",
   "id": "d336f864-4539-4441-8916-d6a33418fe97",
   "metadata": {},
   "source": [
    "[Wissner-Gross & Freer [2013a, pp. 2–3]](http://math.mit.edu/~freer/papers/PhysRevLett_110-168702.pdf) and [Hornischer [2015, §3.1]](https://pure.mpg.de/rest/items/item_2300851/component/file_2300850/content) explain how to calculate $\\mathbf{f}^{(c)}_j(\\mathbf{x}_t, \\tau)$."
   ]
  },
  {
   "cell_type": "markdown",
   "id": "7b624d75-cd77-4b98-961b-0e646364cd1d",
   "metadata": {},
   "source": [
    "As\n",
    "$$\n",
    "\\begin{align*}\n",
    "    \\mathbf{f}^{(c)}(\\mathbf{x}_t, \\tau)\n",
    "&=\n",
    "    T_c \\, \\left. \\nabla_{\\mathbf{x}} \\, s(\\mathbf{x}, \\tau) \\right|_{\\mathbf{x}_t}\n",
    "\\end{align*}\n",
    "$$\n",
    "there are two components: the derivatives wrt $q$\n",
    "$$\n",
    "\\begin{align*}\n",
    "    T_c \\, \\left. \\frac{\\partial}{\\partial \\, q_j} \\, s(\\mathbf{x}, \\tau) \\right|_{q_t}\n",
    "\\end{align*}\n",
    "$$\n",
    "and the derivatives wrt $p$\n",
    "$$\n",
    "\\begin{align*}\n",
    "    T_c \\, \\left. \\frac{\\partial}{\\partial \\, p_j} \\, s(\\mathbf{x}, \\tau) \\right|_{p_t}\n",
    "\\end{align*}\n",
    "$$"
   ]
  },
  {
   "cell_type": "markdown",
   "id": "a4ecb545-17c8-4d1e-894e-f231dc05c014",
   "metadata": {},
   "source": [
    "$$\n",
    "\\begin{align*}\n",
    "    f^{(c)}_j(\\mathbf{x}_t, \\tau)\n",
    "    &= T_c \\, \\left. \\frac{\\partial}{\\partial q_j} \\, s(\\{ \\mathbf{q}, \\mathbf{p}_t \\}, \\tau) \\right|_{\\mathbf{q}_t}\n",
    "\\\\\n",
    "    &= - T_c \\, k_B \\, \\left. \\frac{\\partial}{\\partial q_j} \\,\n",
    "    \\mathbb{E}_{\\mathbf{x}_{t+\\tau} \\sim p(\\mathbf{x}_{t+\\tau} \\mid \\{ \\mathbf{q}, \\mathbf{p}_t \\})}\n",
    "    \\left[\n",
    "        \\ln p(\\mathbf{x}_{t+\\tau} \\mid \\{ \\mathbf{q}, \\mathbf{p}_t \\})\n",
    "    \\right]\\right|_{\\mathbf{q}_t}\n",
    "\\\\\n",
    "    &= - T_c \\, k_B \\, \\left. \\frac{\\partial}{\\partial q_j}\n",
    "    \\int\n",
    "        p(\\mathbf{x}_{t+\\tau} \\mid \\{ \\mathbf{q}, \\mathbf{p}_t \\}) \\ln p(\\mathbf{x}_{t+\\tau} \\mid \\{ \\mathbf{q}, \\mathbf{p}_t \\})\n",
    "        \\,\\mathrm{d} \\mathbf{x}_{t+\\tau}\n",
    "    \\right|_{\\mathbf{q}_t}\n",
    "\\\\\n",
    "    &= - T_c \\, k_B \\, \\left.\n",
    "    \\int\n",
    "        \\frac{\\partial}{\\partial q_j} \\,\n",
    "        p(\\mathbf{x}_{t+\\tau} \\mid \\{ \\mathbf{q}, \\mathbf{p}_t \\}) \\ln p(\\mathbf{x}_{t+\\tau} \\mid \\{ \\mathbf{q}, \\mathbf{p}_t \\})\n",
    "        \\,\\mathrm{d} \\mathbf{x}_{t+\\tau}\n",
    "    \\right|_{\\mathbf{q}_t}\n",
    "\\\\\n",
    "    &= - T_c \\, k_B \\, \\left.\n",
    "    \\int\n",
    "        \\frac{\\partial \\, p(\\mathbf{x}_{t+\\tau} \\mid \\{ \\mathbf{q}, \\mathbf{p}_t \\})}{\\partial q_j}\n",
    "        \\ln p(\\mathbf{x}_{t+\\tau} \\mid \\mathbf{x}_t)\n",
    "        + p(\\mathbf{x}_{t+\\tau} \\mid \\{ \\mathbf{q}, \\mathbf{p}_t \\}) \\frac{\\partial \\ln p(\\mathbf{x}_{t+\\tau} \\mid \\{ \\mathbf{q}, \\mathbf{p}_t \\})}{\\partial q_j}\n",
    "        \\,\\mathrm{d} \\mathbf{x}_{t+\\tau}\n",
    "    \\right|_{\\mathbf{q}_t}\n",
    "\\\\\n",
    "    &= - T_c \\, k_B \\, \\left.\n",
    "    \\int\n",
    "        \\frac{\\partial \\, p(\\mathbf{x}_{t+\\tau} \\mid \\{ \\mathbf{q}, \\mathbf{p}_t \\})}{\\partial q_j}\n",
    "        \\ln p(\\mathbf{x}_{t+\\tau} \\mid \\mathbf{x}_t)\n",
    "        + \\frac{\\partial}{\\partial q_j} p(\\mathbf{x}_{t+\\tau} \\mid \\{ \\mathbf{q}, \\mathbf{p}_t \\})\n",
    "        \\,\\mathrm{d} \\mathbf{x}_{t+\\tau}\n",
    "    \\right|_{\\mathbf{q}_t}\n",
    "\\\\\n",
    "    &= - T_c \\, k_B\n",
    "    \\int\n",
    "        \\left.\n",
    "            \\frac{\\partial}{\\partial q_j} p(\\mathbf{x}_{t+\\tau} \\mid \\{ \\mathbf{q}, \\mathbf{p}_t \\})\n",
    "        \\right|_{\\mathbf{q}_t}\n",
    "        \\ln p(\\mathbf{x}_{t+\\tau} \\mid \\mathbf{x}_t)\n",
    "    \\,\\mathrm{d} \\mathbf{x}_{t+\\tau}\n",
    "    + \\left. \\int\n",
    "        \\frac{\\partial}{\\partial q_j} p(\\mathbf{x}_{t+\\tau} \\mid \\{ \\mathbf{q}, \\mathbf{p}_t \\})\n",
    "    \\,\\mathrm{d} \\mathbf{x}_{t+\\tau}\n",
    "    \\right|_{\\mathbf{q}_t}\n",
    "\\\\\n",
    "    &= - T_c \\, k_B\n",
    "    \\int\n",
    "        \\left.\n",
    "            \\frac{\\partial}{\\partial q_j} p(\\mathbf{x}_{t+\\tau} \\mid \\{ \\mathbf{q}, \\mathbf{p}_t \\})\n",
    "        \\right|_{\\mathbf{q}_t}\n",
    "        \\ln p(\\mathbf{x}_{t+\\tau} \\mid \\mathbf{x}_t)\n",
    "    \\,\\mathrm{d} \\mathbf{x}_{t+\\tau}\n",
    "    + \\frac{\\partial}{\\partial q_j} 1\n",
    "\\\\\n",
    "    &= - T_c \\, k_B\n",
    "    \\int\n",
    "        \\left.\n",
    "            \\frac{\\partial}{\\partial q_j} p(\\mathbf{x}_{t+\\tau} \\mid \\{ \\mathbf{q}, \\mathbf{p}_t \\})\n",
    "        \\right|_{\\mathbf{q}_t}\n",
    "        \\ln p(\\mathbf{x}_{t+\\tau} \\mid \\mathbf{x}_t)\n",
    "    \\,\\mathrm{d} \\mathbf{x}_{t+\\tau}\n",
    "\\end{align*}\n",
    "$$"
   ]
  },
  {
   "cell_type": "markdown",
   "id": "370a1afe-6be0-42b7-8282-f2e6a0ad890c",
   "metadata": {},
   "source": [
    "As the system dynamics are Markovian and discrete-time\n",
    "$$\n",
    "\\begin{align*}\n",
    "    p(\\mathbf{x}_{t+\\tau} \\mid \\mathbf{x}_t) = \n",
    "    p(\\mathbf{x}_{t+\\epsilon} \\mid \\mathbf{x}_t)\n",
    "    \\prod_{n=1}^{\\tau/\\epsilon-1}\n",
    "        p(\\mathbf{x}_{t + (n+1)\\epsilon} \\mid \\mathbf{x}_{t + n\\epsilon})\n",
    "\\end{align*}\n",
    "$$"
   ]
  },
  {
   "cell_type": "markdown",
   "id": "945cfe73-fbb1-4da2-bbdd-44ffc80f6a86",
   "metadata": {},
   "source": [
    "$$\n",
    "\\begin{align*}\n",
    "    \\left.\n",
    "        \\frac{\\partial}{\\partial q_j} p(\\mathbf{x}_{t+\\tau} \\mid \\{ \\mathbf{q}, \\mathbf{p}_t \\})\n",
    "    \\right|_{\\mathbf{q}_j}\n",
    "&=\n",
    "    \\left.\n",
    "        \\frac{\\partial}{\\partial q_j} \\,\n",
    "        p(\\mathbf{x}_{t+\\epsilon} \\mid \\{ \\mathbf{q}, \\mathbf{p}_t \\})\n",
    "        \\prod_{n=1}^{\\tau/\\epsilon-1}\n",
    "            p(\\mathbf{x}_{t + (n+1)\\epsilon} \\mid p(\\mathbf{x}_{t + n\\epsilon})\n",
    "    \\right|_{\\mathbf{q}_j}\n",
    "\\\\\n",
    "&=\n",
    "    \\left.\n",
    "        \\frac{\\partial}{\\partial q_j} \\,\n",
    "        p(\\mathbf{x}_{t+\\epsilon} \\mid \\{ \\mathbf{q}, \\mathbf{p}_t \\})\n",
    "    \\right|_{\\mathbf{q}_j}\n",
    "    \\prod_{n=1}^{\\tau/\\epsilon-1}\n",
    "        p(\\mathbf{x}_{t + (n+1)\\epsilon} \\mid p(\\mathbf{x}_{t + n\\epsilon})\n",
    "\\end{align*}\n",
    "$$"
   ]
  },
  {
   "cell_type": "markdown",
   "id": "a4aabaf9-0535-43eb-b722-55e12dd90021",
   "metadata": {},
   "source": [
    "Using the dependence of $\\mathbf{p}$ on $\\mathbf{q}$,\n",
    "$$\n",
    "\\begin{align*}\n",
    "    p(\\mathbf{x}_{t+\\epsilon} \\mid \\mathbf{x}_t)\n",
    "&=\n",
    "    p( \\{ \\mathbf{q}_{t+\\epsilon}, \\mathbf{p}_{t+\\epsilon} \\} \\mid \\{ \\mathbf{q}_t, \\mathbf{p}_t \\} )\n",
    "\\\\\n",
    "&=\n",
    "    p( \\mathbf{q}_{t+\\epsilon} \\mid \\{ \\mathbf{q}_t, \\mathbf{p}_t \\} )\n",
    "\\\\\n",
    "&=\n",
    "    p( \\mathbf{q}_{t+\\epsilon} \\mid \\mathbf{q}_t )\n",
    "\\end{align*}\n",
    "$$"
   ]
  },
  {
   "cell_type": "markdown",
   "id": "c33c3ff2-e131-4e51-855a-ebb4c25400fd",
   "metadata": {},
   "source": [
    "As $f_{j, t}$ is a normal random variable, $q_{j, t+\\epsilon} \\mid q_{j, t}$ is also a normal random variable determined by\n",
    "$$\n",
    "\\begin{align*}\n",
    "    p(q_{j, t+\\epsilon} \\mid q_{j, t})\n",
    "&=\n",
    "    \\mathcal{N} \\left( \\mu= q_{j, t} + h_j(\\mathbf{x}_t) \\frac{\\epsilon^2}{m_{j}}, \\sigma^2= k_B \\, T_r \\, \\frac{\\epsilon^2}{m_j} \\right)\n",
    "\\end{align*}\n",
    "$$"
   ]
  },
  {
   "cell_type": "markdown",
   "id": "38823592-a982-4e82-a4ac-6afa4d9a3d39",
   "metadata": {},
   "source": [
    "thanks to a reparmeterization of $f$ and Langevin dynamics (**differs by a factor of 2!**)\n",
    "$$\n",
    "\\begin{align*}\n",
    "    q_{j, t+\\epsilon}\n",
    "    &= q_{j, t} + \\dot{q}_{j, t} \\, \\epsilon\n",
    "\\\\\n",
    "    &= q_{j, t} + \\frac{p_{j, t}}{m_{j}} \\epsilon\n",
    "\\\\\n",
    "    &= q_{j, t} + \\frac{p_{j, t} + \\dot{p}_{j, t} \\, \\epsilon}{m_{j}} \\epsilon\n",
    "\\\\\n",
    "    &= q_{j, t} + \\frac{p_{j, t}}{m_{j}} \\epsilon + \\frac{\n",
    "    - \\frac{1}{\\epsilon} \\, p_{j, t} + f_{j, t} + h_j(\\mathbf{x}_t)}{m_{j}} \\epsilon^2\n",
    "\\\\\n",
    "    % &= q_{j, t} + \\frac{p_{j, t}}{m_{j}} \\epsilon + \\frac{f_{j, t} + h_j(\\mathbf{x}_t)}{m_{j}} \\epsilon^2\n",
    "    % &= q_{j, t} + \\left( f_{j, t} + h_j(\\mathbf{x}_t) \\right) \\frac{\\epsilon^2}{m_{j}}\n",
    "    &= q_{j, t} + \\frac{f_{j, t} + h_j(\\mathbf{x}_t)}{m_{j}} \\epsilon^2\n",
    "\\\\\n",
    "    &= q_{j, t} + f_{j, t} \\frac{\\epsilon^2}{m_{j}} + h_j(\\mathbf{x}_t) \\frac{\\epsilon^2}{m_{j}}\n",
    "\\end{align*}\n",
    "$$"
   ]
  },
  {
   "cell_type": "markdown",
   "id": "d956f465-7d4c-4aef-a371-17b74023c7f7",
   "metadata": {},
   "source": [
    "For an arbitrary normal distribution\n",
    "$$\n",
    "\\begin{align*}\n",
    "    \\frac{\\partial}{\\partial x} p(x)\n",
    "    &=\n",
    "    \\frac{\\partial}{\\partial x} \\frac{1}{\\sqrt{2 \\pi} \\sigma} \\exp \\left(- \\frac{(x - \\mu)^2}{2 \\sigma^2} \\right)\n",
    "\\\\\n",
    "    &=\n",
    "    - \\frac{1}{\\sqrt{2 \\pi} \\sigma} \\exp \\left(- \\frac{(x - \\mu)^2}{2 \\sigma^2} \\right)\n",
    "    \\frac{\\partial}{\\partial x} \\frac{(x - \\mu)^2}{2 \\sigma^2}\n",
    "\\\\\n",
    "    &=\n",
    "    - \\frac{1}{\\sqrt{2 \\pi} \\sigma} \\exp \\left(- \\frac{(x - \\mu)^2}{2 \\sigma^2} \\right)\n",
    "    \\frac{x - \\mu}{\\sigma^2}\n",
    "\\\\\n",
    "    &=\n",
    "    - p(x) \\frac{x - \\mu}{\\sigma^2}\n",
    "\\end{align*}\n",
    "$$"
   ]
  },
  {
   "cell_type": "markdown",
   "id": "2587e8c0-6ea8-4fd3-ac7e-161d4eee3236",
   "metadata": {},
   "source": [
    "so, after substitution $\\mu$ and $\\sigma$,\n",
    "$$\n",
    "\\begin{align*}\n",
    "    -\n",
    "    \\left.\n",
    "        \\frac{\\partial}{\\partial \\, q} \\, p( q \\mid q_{j, t} )\n",
    "    \\right|_{q_{j, t+\\epsilon}}\n",
    "&=\n",
    "    - p( q_{j, t+\\epsilon} \\mid q_{j, t} ) \\frac{f_{j,t}}{k_B \\, T_r}\n",
    "\\end{align*}\n",
    "$$"
   ]
  },
  {
   "cell_type": "markdown",
   "id": "21e72c78-1172-45ce-a514-d22040931db2",
   "metadata": {},
   "source": [
    "therefore\n",
    "$$\n",
    "\\begin{align*}\n",
    "    f^{(c)}_j(\\mathbf{x}_t, \\tau)\n",
    "&= - \\frac{T_c}{T_r}\n",
    "    \\int\n",
    "        f_{j,t} \\,\n",
    "        p(\\mathbf{x}_{t+\\tau} \\mid \\mathbf{x}_t)\n",
    "        \\ln p(\\mathbf{x}_{t+\\tau} \\mid \\mathbf{x}_t)\n",
    "    \\,\\mathrm{d} \\mathbf{x}_{t+\\tau}\n",
    "\\end{align*}\n",
    "$$"
   ]
  },
  {
   "cell_type": "markdown",
   "id": "301580dd-e90e-450e-ac1c-8165ca93b78b",
   "metadata": {},
   "source": [
    "### Approximating The Entropic Force"
   ]
  },
  {
   "cell_type": "markdown",
   "id": "b22a4673-e62a-418d-812b-a4eadb2d0636",
   "metadata": {},
   "source": [
    "[Wissner-Gross & Freer [2013b, p. 10]](https://journals.aps.org/prl/supplemental/10.1103/PhysRevLett.110.168702) and [Hornischer, [2015, Section 3.2]](https://pure.mpg.de/rest/items/item_2300851/component/file_2300850/content) present a method for approximating the computation of the integral in the above expression."
   ]
  },
  {
   "cell_type": "markdown",
   "id": "bbe8ed53-3ae1-4a62-954a-ef4e31968944",
   "metadata": {},
   "source": [
    "Consider $M$ Monte-Carlo samples of $\\mathbf{x}_{t+\\tau}^{(i)}$s for $i$ from $1$ to $M$.\n",
    "For convenience, denote the following conditional likelihood as \n",
    "$$\n",
    "\\begin{align*}\n",
    "    p(\\mathbf{x}_{t+\\tau}^{(i)} \\mid \\mathbf{x}_t)\n",
    "    =\n",
    "    \\frac{1}{M \\, \\Omega_i}\n",
    "\\end{align*}\n",
    "$$"
   ]
  },
  {
   "cell_type": "markdown",
   "id": "a863de17-2304-4dc7-8591-3477bfb61c03",
   "metadata": {},
   "source": [
    "The $M$-sample Monte-Carlo estimate of the causal entropic force is\n",
    "$$\n",
    "\\begin{align*}\n",
    "    f^{(c)}_j(\\mathbf{x}_t, \\tau)\n",
    "    &= - \\frac{T_c}{T_r}\n",
    "    \\int\n",
    "        f_{j,t} \\,\n",
    "        p(\\mathbf{x}_{t+\\tau} \\mid \\mathbf{x}_t)\n",
    "        \\ln p(\\mathbf{x}_{t+\\tau} \\mid \\mathbf{x}_t)\n",
    "    \\,\\mathrm{d} \\mathbf{x}_{t+\\tau}\n",
    "\\\\\n",
    "    &= - \\frac{T_c}{T_r} \\,\n",
    "    \\mathbb{E}_{\\mathbf{x}_{t+\\tau} \\sim p(\\mathbf{x}_{t+\\tau} \\mid \\mathbf{x}_t)} [\n",
    "        f_{j,t} \\,\n",
    "        \\ln p(\\mathbf{x}_{t+\\tau} \\mid \\mathbf{x}_t)\n",
    "    ]\n",
    "\\\\\n",
    "    &\\approx - \\frac{T_c}{T_r}\n",
    "    \\frac{1}{M}\n",
    "    \\sum_{i=1}^M\n",
    "        f_{j,t}^{(i)} \\,\n",
    "        \\ln p(\\mathbf{x}_{t+\\tau}^{(i)} \\mid \\mathbf{x}_t)\n",
    "\\\\\n",
    "    &= - \\frac{T_c}{T_r}\n",
    "    \\frac{1}{M}\n",
    "    \\sum_{i=1}^M\n",
    "        f_{j,t}^{(i)} \\,\n",
    "        \\ln \\frac{1}{M \\, \\Omega_i}\n",
    "\\\\\n",
    "    &= \\frac{T_c}{T_r}\n",
    "    \\frac{1}{M}\n",
    "    \\left(\n",
    "    \\sum_{i=1}^M\n",
    "        f_{j,t}^{(i)} \\,\n",
    "        \\ln M\n",
    "    + \\sum_{i=1}^M\n",
    "        f_{j,t}^{(i)} \\,\n",
    "        \\ln \\Omega_i\n",
    "    \\right)\n",
    "\\\\\n",
    "    &\\approx \\frac{T_c}{T_r}\n",
    "    \\frac{1}{M}\n",
    "    \\sum_{i=1}^M\n",
    "        f_{j,t}^{(i)} \\,\n",
    "        \\ln \\Omega_i\n",
    "\\end{align*}\n",
    "$$"
   ]
  },
  {
   "cell_type": "markdown",
   "id": "813e3f31-6d26-4206-bd95-3b777e7aafbf",
   "metadata": {},
   "source": [
    "The first term in the penultimate line disappears because\n",
    "$$\n",
    "\\begin{align*}\n",
    "    \\frac{1}{M}\n",
    "    \\sum_{i=1}^M\n",
    "        f_{j,t}^{(i)}\n",
    "&\\approx\n",
    "    0\n",
    "\\end{align*}\n",
    "$$"
   ]
  },
  {
   "cell_type": "markdown",
   "id": "cf9a8011-6733-411c-9999-040c37d8c342",
   "metadata": {},
   "source": [
    "Given\n",
    "$$\n",
    "\\begin{align*}\n",
    "    \\left(\n",
    "        \\frac{1}{M}\n",
    "        \\sum_{i=1}^M\n",
    "            f_{j,t}^{(i)}\n",
    "    \\right)\n",
    "    \\ln \\sum_{i=1}^M\n",
    "        \\Omega_i\n",
    "\\approx\n",
    "    0\n",
    "\\end{align*}\n",
    "$$"
   ]
  },
  {
   "cell_type": "markdown",
   "id": "aaf98337-3800-43f0-a175-e19878276881",
   "metadata": {},
   "source": [
    "$$\n",
    "\\begin{align*}\n",
    "    \\frac{T_c}{T_r}\n",
    "    \\frac{1}{M}\n",
    "    \\sum_{i=1}^M\n",
    "        f_{j,t}^{(i)} \\,\n",
    "        \\ln \\Omega_i\n",
    "&\\approx\n",
    "    \\frac{T_c}{T_r}\n",
    "    \\frac{1}{M}\n",
    "    \\sum_{i=1}^M\n",
    "        f_{j,t}^{(i)} \\,\n",
    "        \\ln \\Omega_i\n",
    "    -\n",
    "    \\frac{T_c}{T_r}\n",
    "    \\left(\n",
    "        \\frac{1}{M}\n",
    "        \\sum_{i=1}^M\n",
    "            f_{j,t}^{(i)}\n",
    "    \\right)\n",
    "    \\ln \\sum_{i=1}^M\n",
    "        \\Omega_i\n",
    "\\\\\n",
    "&=\n",
    "    \\frac{T_c}{T_r}\n",
    "    \\frac{1}{M}\n",
    "    \\sum_{i=1}^M\n",
    "        f_{j,t}^{(i)}\n",
    "        \\left(\n",
    "            \\ln \\Omega_i\n",
    "            - \\ln \\sum_{i=1}^M\n",
    "                \\Omega_i\n",
    "        \\right)\n",
    "\\\\\n",
    "&=\n",
    "    \\frac{T_c}{T_r}\n",
    "    \\frac{1}{M}\n",
    "    \\sum_{i=1}^M\n",
    "        f_{j,t}^{(i)}\n",
    "        \\ln \\frac{\\Omega_i}{\\sum_{i=1}^M \\Omega_i}\n",
    "\\end{align*}\n",
    "$$"
   ]
  },
  {
   "cell_type": "markdown",
   "id": "c5b8aefb-95ae-4b32-9056-5b69eef78908",
   "metadata": {},
   "source": [
    "and therefore\n",
    "$$\n",
    "\\begin{align*}\n",
    "    f^{(c)}_j(\\mathbf{x}_t, \\tau)\n",
    "&\\approx\n",
    "    \\frac{T_c}{T_r}\n",
    "    \\frac{1}{M}\n",
    "    \\sum_{i=1}^M\n",
    "        f_{j,t}^{(i)}\n",
    "        \\ln \\frac{\\Omega_i}{\\sum_{i=1}^M \\Omega_i}\n",
    "\\end{align*}\n",
    "$$"
   ]
  },
  {
   "cell_type": "markdown",
   "id": "7885af0f-ae89-4fff-b809-249c1c270ee8",
   "metadata": {},
   "source": [
    "[Wissner-Gross & Freer [2013b, p. 10]](https://journals.aps.org/prl/supplemental/10.1103/PhysRevLett.110.168702) present an alternate derivation using an arithmetic average of the above quantity, represented by the angle brackets around the entire expression."
   ]
  },
  {
   "cell_type": "markdown",
   "id": "108bffb5-6769-410c-9ff7-c3994a9e421b",
   "metadata": {},
   "source": [
    "Given\n",
    "$$\n",
    "\\begin{align*}\n",
    "    \\Omega_i\n",
    "    =\n",
    "    {\\frac{1}{M \\, p(\\mathbf{x}_{t+\\tau}^{(i)} \\mid \\mathbf{x}_t)}}\n",
    "\\end{align*}\n",
    "$$"
   ]
  },
  {
   "cell_type": "markdown",
   "id": "4daaaaea-723f-428c-8825-1e6945d02756",
   "metadata": {},
   "source": [
    "$$\n",
    "\\begin{align*}\n",
    "    \\sum_{i=1}^M\n",
    "        f_{j,t}^{(i)}\n",
    "        \\ln \\frac{\\Omega_i}{\\sum_{i=1}^M \\Omega_i}\n",
    "&=\n",
    "    \\sum_{i=1}^M\n",
    "        f_{j,t}^{(i)}\n",
    "        \\ln \\frac\n",
    "            {\\frac{1}{M \\, p(\\mathbf{x}_{t+\\tau}^{(i)} \\mid \\mathbf{x}_t)}}\n",
    "            {\\sum_{k=1}^M \\frac{1}{M \\, p(\\mathbf{x}_{t+\\tau}^{(k)} \\mid \\mathbf{x}_t)}}\n",
    "\\\\&=\n",
    "    \\sum_{i=1}^M\n",
    "        f_{j,t}^{(i)}\n",
    "        \\ln \\frac\n",
    "            {\\frac{1}{p(\\mathbf{x}_{t+\\tau}^{(i)} \\mid \\mathbf{x}_t)}}\n",
    "            {\\sum_{k=1}^M \\frac{1}{p(\\mathbf{x}_{t+\\tau}^{(k)} \\mid \\mathbf{x}_t)}}\n",
    "\\end{align*}\n",
    "$$"
   ]
  },
  {
   "cell_type": "markdown",
   "id": "490da993-7164-4363-8c3c-2ffe65111749",
   "metadata": {},
   "source": [
    "In practice, $p(\\mathbf{x}_{t+\\tau}^{(k)} \\mid \\mathbf{x}_t)$ is approximated by kernel density estimation."
   ]
  },
  {
   "cell_type": "code",
   "execution_count": 15,
   "id": "b893b3fa-9950-4028-a464-c90f33bd67dd",
   "metadata": {},
   "outputs": [],
   "source": [
    "def log_volume_fracs(paths):\n",
    "    volume       = 1. / scipy.stats.gaussian_kde(paths).pdf(paths)\n",
    "    volume_fracs = volume / volume.sum() \n",
    "    return np.log(volume_fracs)"
   ]
  },
  {
   "cell_type": "code",
   "execution_count": 16,
   "id": "bbed5403-edc7-41b7-9c3e-771b7f9f6b23",
   "metadata": {},
   "outputs": [],
   "source": [
    "def entropic_force(p, q, num_samples):\n",
    "    paths, fs = rollouts(p, q, num_samples)\n",
    "    \n",
    "    # remove the first state because we calculate conditional density\n",
    "    paths = paths[1:]\n",
    "\n",
    "    # subsample paths: idea and code from Google Gemini to speed up KDE\n",
    "    sub_indices = np.linspace( 0 ,\n",
    "                               timesteps - 1 ,\n",
    "                               NUM_SUBSAMPLES ,\n",
    "                               dtype=int ) \n",
    "    sub_paths   = paths[sub_indices, :, :]\n",
    "    sub_paths   = sub_paths.transpose((2, 0, 1)).reshape(-1, num_samples)\n",
    "    \n",
    "    # calculate entropic force\n",
    "    return np.mean( fs * log_volume_fracs(sub_paths)[:, None] , axis=0 )"
   ]
  },
  {
   "cell_type": "markdown",
   "id": "4aae4aad-b931-4bd4-b161-13eda7987a57",
   "metadata": {},
   "source": [
    "now we run the causal entropic forces agent"
   ]
  },
  {
   "cell_type": "code",
   "execution_count": null,
   "id": "530db62d-b6b3-418c-bb79-06e831114ea5",
   "metadata": {},
   "outputs": [
    {
     "name": "stdout",
     "output_type": "stream",
     "text": [
      "0 [40. 40.]\n",
      "1 [40.53854324 38.98063433]\n",
      "2 [40.63174919 38.14109986]\n",
      "3 [42.74087873 39.46971615]\n",
      "4 [42.2120383  39.05657861]\n",
      "5 [42.0749558  40.29409079]\n",
      "6 [40.87258483 40.25702743]\n",
      "7 [39.82521577 40.3922173 ]\n",
      "8 [41.62625358 41.46699154]\n",
      "9 [41.66222239 40.96857333]\n",
      "10 [42.15771712 40.25155556]\n",
      "11 [42.64673208 40.69738883]\n",
      "12 [42.94242484 41.83499598]\n",
      "13 [43.74577589 40.48147532]\n",
      "14 [42.93671519 40.69812054]\n",
      "15 [43.29059407 43.90268295]\n",
      "16 [41.87503704 44.37111152]\n",
      "17 [41.50343445 44.73426603]\n",
      "18 [41.8313388  45.44414292]\n",
      "19 [41.38712943 45.79934333]\n",
      "20 [42.74510086 44.87525314]\n",
      "21 [43.83538321 43.87029439]\n",
      "22 [45.29638232 44.42943518]\n",
      "23 [46.19765862 46.38287908]\n",
      "24 [46.88931234 46.1710318 ]\n",
      "25 [48.35955454 44.04930575]\n",
      "26 [47.97545723 44.09194502]\n",
      "27 [47.23850536 44.56015364]\n",
      "28 [48.80075632 43.45598301]\n",
      "29 [49.05059979 42.19691313]\n",
      "30 [48.88712027 40.2810376 ]\n",
      "31 [48.31486101 41.06879038]\n",
      "32 [48.86645505 42.03304907]\n",
      "33 [49.82950567 42.11020655]\n",
      "34 [50.84933699 44.21376884]\n",
      "35 [51.84059655 44.19529224]\n",
      "36 [51.02990106 44.15757331]\n",
      "37 [50.99886037 44.65407078]\n",
      "38 [51.21918345 44.91478364]\n",
      "39 [50.58784174 44.21985519]\n",
      "40 [50.83502921 44.7639111 ]\n",
      "41 [51.85299301 43.87185965]\n",
      "42 [52.79369435 43.70141123]\n",
      "43 [53.26192605 44.92704426]\n",
      "44 [53.21242579 44.78021755]\n",
      "45 [53.39998373 45.74767966]\n",
      "46 [54.02117866 45.58831592]\n",
      "47 [54.17602697 46.35846012]\n",
      "48 [55.02873109 46.35480727]\n",
      "49 [56.40451408 46.2394632 ]\n",
      "50 [55.78785763 44.42270052]\n",
      "51 [56.22519222 42.91929014]\n",
      "52 [56.28927297 42.07342057]\n",
      "53 [56.09081966 42.12164101]\n",
      "54 [56.72529735 41.99399318]\n",
      "55 [56.54386834 42.24055463]\n",
      "56 [55.39380801 42.28862132]\n",
      "57 [55.6144399  42.18731371]\n",
      "58 [55.57727661 41.4676571 ]\n",
      "59 [55.58183668 40.07951696]\n",
      "60 [55.1103177  40.71140702]\n",
      "61 [55.33683789 39.95987528]\n",
      "62 [54.89345522 42.10908832]\n",
      "63 [54.4368     40.28516316]\n",
      "64 [53.96459841 40.55568849]\n",
      "65 [55.12544111 41.65022161]\n",
      "66 [55.17259467 41.55674128]\n",
      "67 [54.73508174 42.32118041]\n",
      "68 [55.79960431 41.80005452]\n",
      "69 [54.78368282 43.55316806]\n",
      "70 [56.21761568 43.96269064]\n",
      "71 [55.83050153 42.60439372]\n",
      "72 [56.88793699 42.57852163]\n",
      "73 [58.72720732 42.30927719]\n",
      "74 [58.58655036 41.60144302]\n",
      "75 [58.43244701 40.58324627]\n",
      "76 [58.12145706 39.40478665]\n",
      "77 [58.28219937 39.6045974 ]\n",
      "78 [58.79551471 39.63277369]\n",
      "79 [57.12892392 39.37289085]\n",
      "80 [57.0233289  40.21578247]\n",
      "81 [57.12630988 40.10797355]\n",
      "82 [57.29812611 39.88712035]\n",
      "83 [58.23499968 38.36103719]\n",
      "84 [56.28623293 37.14469383]\n",
      "85 [56.80850663 37.18490016]\n",
      "86 [57.20095609 36.88228005]\n"
     ]
    }
   ],
   "source": [
    "p = np.array([0.   , 0.   ])\n",
    "q = np.array([L/10., L/10.])\n",
    "\n",
    "path = copy.deepcopy(q[None, :])\n",
    "\n",
    "for timestep in range(200):\n",
    "    print(timestep, q)\n",
    "    num_samples = 50_000\n",
    "    f_c  = 2 * T_C / T_R * entropic_force(p, q, num_samples)\n",
    "    p, q = update_phase_space(p, q, f_c)\n",
    "    path = np.append(path, q[None, :], axis=0)"
   ]
  },
  {
   "cell_type": "code",
   "execution_count": null,
   "id": "893ffd0b-2624-4029-a430-00159be4d33c",
   "metadata": {},
   "outputs": [],
   "source": [
    "fig, ax = plt.subplots(figsize=(13, 13))\n",
    "# from https://stackoverflow.com/a/37437395\n",
    "# ax.add_patch(patches.Rectangle(Q_MIN, L, L/5., edgecolor='k', fill=False))\n",
    "ax.plot(*path.T)\n",
    "ax.set_xlim(Q_MIN[0], Q_MAX[0])\n",
    "ax.set_ylim(Q_MIN[1], Q_MAX[1])\n",
    "ax.set(aspect='equal')\n",
    "plt.show()"
   ]
  }
 ],
 "metadata": {
  "kernelspec": {
   "display_name": "Python 3 (ipykernel)",
   "language": "python",
   "name": "python3"
  },
  "language_info": {
   "codemirror_mode": {
    "name": "ipython",
    "version": 3
   },
   "file_extension": ".py",
   "mimetype": "text/x-python",
   "name": "python",
   "nbconvert_exporter": "python",
   "pygments_lexer": "ipython3",
   "version": "3.13.4"
  }
 },
 "nbformat": 4,
 "nbformat_minor": 5
}
