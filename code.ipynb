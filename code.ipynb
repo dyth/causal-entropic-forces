{
 "cells": [
  {
   "cell_type": "code",
   "execution_count": 1,
   "id": "baecfd9f-5dfa-443a-bede-64cb6516225c",
   "metadata": {},
   "outputs": [],
   "source": [
    "import numpy as np\n",
    "import scipy\n",
    "\n",
    "from matplotlib import pyplot as plt\n",
    "from matplotlib import patches as patches\n",
    "from matplotlib import cm\n",
    "\n",
    "import copy"
   ]
  },
  {
   "cell_type": "code",
   "execution_count": 2,
   "id": "7863dd4c-196a-447b-8ec2-a3d10547d6af",
   "metadata": {},
   "outputs": [],
   "source": [
    "np.random.seed(0)\n",
    "\n",
    "dtype = np.float32"
   ]
  },
  {
   "cell_type": "code",
   "execution_count": null,
   "id": "50d369f4-944e-4a84-bb80-bff6bde6fb3a",
   "metadata": {},
   "outputs": [],
   "source": []
  },
  {
   "cell_type": "code",
   "execution_count": 3,
   "id": "5d58ab3e-3634-47b6-8978-3e3d8e97daae",
   "metadata": {},
   "outputs": [],
   "source": [
    "EPSILON = .025                              # timesteps (seconds)\n",
    "M       = 1e-21                             # mass (kg)\n",
    "T_R     = 4e5                               # temperature of random agent (Kelvins)\n",
    "T_C     = 2e6                               # temperature of causal agent (Kelvins)\n",
    "K_B     = scipy.constants.Boltzmann         # Boltzmann constant (J/K, or m^2 kg / s^2 K)\n",
    "TAU     = 10.                               # simulation time horizon\n",
    "\n",
    "L       = 400                               # length (meters) \n",
    "Q_MIN   = np.array([0., 0.  ], dtype=dtype) # minimum box displacement\n",
    "Q_MAX   = np.array([L , L/5.], dtype=dtype) # maximum box displacement"
   ]
  },
  {
   "cell_type": "code",
   "execution_count": 4,
   "id": "ac8c860c-0e75-4bd1-996d-392f7ed1be31",
   "metadata": {},
   "outputs": [],
   "source": [
    "PREFACTOR = 4."
   ]
  },
  {
   "cell_type": "code",
   "execution_count": 5,
   "id": "6adc0cff-d3b8-447c-bf0e-40c7d54493b9",
   "metadata": {},
   "outputs": [],
   "source": [
    "# T_R *= PREFACTOR\n",
    "# T_C *= PREFACTOR"
   ]
  },
  {
   "cell_type": "code",
   "execution_count": 6,
   "id": "02cd6e86-c50c-4e76-af32-ddb2a375e25b",
   "metadata": {},
   "outputs": [],
   "source": [
    "timesteps = int(TAU / EPSILON)"
   ]
  },
  {
   "cell_type": "code",
   "execution_count": null,
   "id": "c4912e5a-838d-4188-a943-4141cd4a0662",
   "metadata": {},
   "outputs": [],
   "source": []
  },
  {
   "cell_type": "code",
   "execution_count": 7,
   "id": "0d19f33d-416b-4c4c-a03a-e05bb29f1767",
   "metadata": {},
   "outputs": [],
   "source": [
    "def generate_random_fs(num_samples):\n",
    "    # units of scale are\n",
    "    # sqrt(kg * (J / K) * K) / s\n",
    "    # = sqrt(kg * J) / s\n",
    "    # = sqrt(kg * (kg * m^2 / s^2)) / s\n",
    "    # = sqrt(kg^2 * m^2 / s^2) / s\n",
    "    # = (kg * m / s) / s\n",
    "    # = (kg * m / s^2)\n",
    "    # = N\n",
    "    return np.random.normal( loc   = 0. ,\n",
    "                             scale = 2 * np.sqrt(M * K_B * T_R / EPSILON) ,\n",
    "                             size  = (num_samples, 2) ).astype(dtype)"
   ]
  },
  {
   "cell_type": "code",
   "execution_count": 8,
   "id": "64f0ce22-3b3c-41c1-9fb5-b27fb16584b7",
   "metadata": {},
   "outputs": [],
   "source": [
    "def calculate_momentum(p, force):\n",
    "    p     = force * EPSILON\n",
    "    p_max = M * np.abs(Q_MAX - Q_MIN) / EPSILON\n",
    "    return np.sign(p) * np.minimum(p_max, np.abs(p))"
   ]
  },
  {
   "cell_type": "code",
   "execution_count": 9,
   "id": "58be1b54-a717-400e-b757-ff5760881a23",
   "metadata": {},
   "outputs": [],
   "source": [
    "def calculate_position(q, p):\n",
    "    return q  +  EPSILON * p / M"
   ]
  },
  {
   "cell_type": "code",
   "execution_count": 10,
   "id": "c63abed0-c390-4883-a0f5-f79a903b8972",
   "metadata": {},
   "outputs": [],
   "source": [
    "def enforce_elastic_collisions(p, q):\n",
    "    q  = np.maximum(q, 2 * Q_MIN - q)\n",
    "    p *= np.sign(q - Q_MIN)\n",
    "    q  = np.minimum(q, 2 * Q_MAX - q)\n",
    "    p *= np.sign(Q_MAX - q)\n",
    "    return p, q"
   ]
  },
  {
   "cell_type": "code",
   "execution_count": 11,
   "id": "a8c9b93e-89a7-43e4-8a6f-e61d0f7933f8",
   "metadata": {},
   "outputs": [],
   "source": [
    "def update_phase_space(p, q, f):\n",
    "    p    = calculate_momentum(p, f)\n",
    "    q    = calculate_position(q, p)\n",
    "    p, q = enforce_elastic_collisions(p, q)\n",
    "    return p, q"
   ]
  },
  {
   "cell_type": "code",
   "execution_count": null,
   "id": "721e11ca-818c-4b60-93d3-6961aa3afb41",
   "metadata": {},
   "outputs": [],
   "source": []
  },
  {
   "cell_type": "code",
   "execution_count": 12,
   "id": "25c4b623-0932-4d4d-96a3-a69581391040",
   "metadata": {},
   "outputs": [],
   "source": [
    "def rollouts(cur_macrostate_p, cur_macrostate_q, num_samples):\n",
    "    ps = np.tile(cur_macrostate_p[None, :], (num_samples, 1))\n",
    "    qs = np.tile(cur_macrostate_q[None, :], (num_samples, 1))\n",
    "    \n",
    "    paths = copy.deepcopy(qs[None, :])\n",
    "\n",
    "    fs       = generate_random_fs(num_samples)\n",
    "    first_fs = copy.deepcopy(fs)\n",
    "    \n",
    "    # create MC rollouts producing array (timesteps, num_samples, q_dim)\n",
    "    for i in range(timesteps):\n",
    "        ps, qs = update_phase_space(ps, qs, fs)\n",
    "        paths  = np.append(paths, qs[None, :], axis=0)\n",
    "        fs     = generate_random_fs(num_samples)\n",
    "\n",
    "    return paths, first_fs"
   ]
  },
  {
   "cell_type": "markdown",
   "id": "dfecf0f9-9628-443b-b08c-4fe66999cb21",
   "metadata": {},
   "source": []
  },
  {
   "cell_type": "code",
   "execution_count": 13,
   "id": "fa158f8d-dced-415c-8cd2-ba2d6b77e07b",
   "metadata": {},
   "outputs": [],
   "source": [
    "def log_volume_fracs(paths):\n",
    "    volume       = 1. / scipy.stats.gaussian_kde(paths).pdf(paths)\n",
    "    volume_fracs = volume / volume.sum() \n",
    "    return np.log(volume_fracs)"
   ]
  },
  {
   "cell_type": "code",
   "execution_count": 14,
   "id": "c8a181e5-70bf-4f3b-8986-b29967c86b74",
   "metadata": {},
   "outputs": [],
   "source": [
    "def calculate_entropic_force( cur_macrostate_p,\n",
    "                              cur_macrostate_q ,\n",
    "                              tau = 10. ,\n",
    "                              num_samples = 100_000 ,\n",
    "                              num_subsamples = 10 ):\n",
    "    \n",
    "    paths, fs = rollouts(cur_macrostate_p, cur_macrostate_q, num_samples)\n",
    "    \n",
    "    # remove the first state because we calculate conditional density\n",
    "    paths = paths[1:]\n",
    "\n",
    "    # subsample paths: idea and code from Google Gemini to speed up KDE\n",
    "    sub_indices = np.linspace( 0 ,\n",
    "                               timesteps - 1 ,\n",
    "                               num_subsamples ,\n",
    "                               dtype=int ) \n",
    "    sub_paths   = paths[sub_indices, :, :]\n",
    "    sub_paths   = sub_paths.transpose((2, 0, 1)).reshape(-1, num_samples)\n",
    "    \n",
    "    # calculate entropic force\n",
    "    return np.mean( fs * log_volume_fracs(sub_paths)[:, None] , axis=0 )"
   ]
  },
  {
   "cell_type": "code",
   "execution_count": null,
   "id": "c486b79c-6962-4a83-9523-eec0a99c9101",
   "metadata": {},
   "outputs": [],
   "source": []
  },
  {
   "cell_type": "code",
   "execution_count": 15,
   "id": "21dda04b-a427-4e93-9644-8d04ec1ba33c",
   "metadata": {},
   "outputs": [
    {
     "name": "stdout",
     "output_type": "stream",
     "text": [
      "0 [40. 40.]\n",
      "1 [40.03062962 39.64892684]\n",
      "2 [39.97037418 39.41871217]\n",
      "3 [40.58668875 39.78776588]\n",
      "4 [40.34250807 39.70456006]\n",
      "5 [40.22450521 40.10421236]\n",
      "6 [39.72511079 40.0808582 ]\n",
      "7 [39.28544165 40.09699237]\n",
      "8 [39.79464506 40.44614299]\n",
      "9 [39.67572807 40.29329453]\n",
      "10 [39.76089433 40.08149512]\n",
      "11 [39.8079765  40.25593799]\n"
     ]
    },
    {
     "ename": "KeyboardInterrupt",
     "evalue": "",
     "output_type": "error",
     "traceback": [
      "\u001b[0;31m---------------------------------------------------------------------------\u001b[0m",
      "\u001b[0;31mKeyboardInterrupt\u001b[0m                         Traceback (most recent call last)",
      "Cell \u001b[0;32mIn[15], line 9\u001b[0m\n\u001b[1;32m      7\u001b[0m \u001b[38;5;28;01mfor\u001b[39;00m timestep \u001b[38;5;129;01min\u001b[39;00m \u001b[38;5;28mrange\u001b[39m(\u001b[38;5;241m200\u001b[39m):\n\u001b[1;32m      8\u001b[0m     \u001b[38;5;28mprint\u001b[39m(timestep, q)\n\u001b[0;32m----> 9\u001b[0m     f_c  \u001b[38;5;241m=\u001b[39m \u001b[38;5;241m2\u001b[39m \u001b[38;5;241m*\u001b[39m T_C \u001b[38;5;241m/\u001b[39m T_R \u001b[38;5;241m*\u001b[39m \u001b[43mcalculate_entropic_force\u001b[49m\u001b[43m(\u001b[49m\u001b[43m \u001b[49m\u001b[43mp\u001b[49m\u001b[43m \u001b[49m\u001b[43m,\u001b[49m\n\u001b[1;32m     10\u001b[0m \u001b[43m                                                     \u001b[49m\u001b[43mq\u001b[49m\u001b[43m \u001b[49m\u001b[43m,\u001b[49m\n\u001b[1;32m     11\u001b[0m \u001b[43m                                                     \u001b[49m\u001b[43mnum_samples\u001b[49m\u001b[43m \u001b[49m\u001b[38;5;241;43m=\u001b[39;49m\u001b[43m \u001b[49m\u001b[38;5;241;43m50_000\u001b[39;49m\u001b[43m \u001b[49m\u001b[43m,\u001b[49m\n\u001b[1;32m     12\u001b[0m \u001b[43m                                                     \u001b[49m\u001b[43mnum_subsamples\u001b[49m\u001b[43m \u001b[49m\u001b[38;5;241;43m=\u001b[39;49m\u001b[43m \u001b[49m\u001b[38;5;241;43m2\u001b[39;49m\u001b[43m \u001b[49m\u001b[43m)\u001b[49m\n\u001b[1;32m     13\u001b[0m     p, q \u001b[38;5;241m=\u001b[39m update_phase_space(p, q, f_c)\n\u001b[1;32m     14\u001b[0m     path \u001b[38;5;241m=\u001b[39m np\u001b[38;5;241m.\u001b[39mappend(path, q[\u001b[38;5;28;01mNone\u001b[39;00m, :], axis\u001b[38;5;241m=\u001b[39m\u001b[38;5;241m0\u001b[39m)\n",
      "Cell \u001b[0;32mIn[14], line 7\u001b[0m, in \u001b[0;36mcalculate_entropic_force\u001b[0;34m(cur_macrostate_p, cur_macrostate_q, tau, num_samples, num_subsamples)\u001b[0m\n\u001b[1;32m      1\u001b[0m \u001b[38;5;28;01mdef\u001b[39;00m\u001b[38;5;250m \u001b[39m\u001b[38;5;21mcalculate_entropic_force\u001b[39m( cur_macrostate_p,\n\u001b[1;32m      2\u001b[0m                               cur_macrostate_q ,\n\u001b[1;32m      3\u001b[0m                               tau \u001b[38;5;241m=\u001b[39m \u001b[38;5;241m10.\u001b[39m ,\n\u001b[1;32m      4\u001b[0m                               num_samples \u001b[38;5;241m=\u001b[39m \u001b[38;5;241m100_000\u001b[39m ,\n\u001b[1;32m      5\u001b[0m                               num_subsamples \u001b[38;5;241m=\u001b[39m \u001b[38;5;241m10\u001b[39m ):\n\u001b[0;32m----> 7\u001b[0m     paths, fs \u001b[38;5;241m=\u001b[39m \u001b[43mrollouts\u001b[49m\u001b[43m(\u001b[49m\u001b[43mcur_macrostate_p\u001b[49m\u001b[43m,\u001b[49m\u001b[43m \u001b[49m\u001b[43mcur_macrostate_q\u001b[49m\u001b[43m,\u001b[49m\u001b[43m \u001b[49m\u001b[43mnum_samples\u001b[49m\u001b[43m)\u001b[49m\n\u001b[1;32m      9\u001b[0m     \u001b[38;5;66;03m# remove the first state because we calculate conditional density\u001b[39;00m\n\u001b[1;32m     10\u001b[0m     paths \u001b[38;5;241m=\u001b[39m paths[\u001b[38;5;241m1\u001b[39m:]\n",
      "Cell \u001b[0;32mIn[12], line 13\u001b[0m, in \u001b[0;36mrollouts\u001b[0;34m(cur_macrostate_p, cur_macrostate_q, num_samples)\u001b[0m\n\u001b[1;32m     11\u001b[0m \u001b[38;5;28;01mfor\u001b[39;00m i \u001b[38;5;129;01min\u001b[39;00m \u001b[38;5;28mrange\u001b[39m(timesteps):\n\u001b[1;32m     12\u001b[0m     ps, qs \u001b[38;5;241m=\u001b[39m update_phase_space(ps, qs, fs)\n\u001b[0;32m---> 13\u001b[0m     paths  \u001b[38;5;241m=\u001b[39m \u001b[43mnp\u001b[49m\u001b[38;5;241;43m.\u001b[39;49m\u001b[43mappend\u001b[49m\u001b[43m(\u001b[49m\u001b[43mpaths\u001b[49m\u001b[43m,\u001b[49m\u001b[43m \u001b[49m\u001b[43mqs\u001b[49m\u001b[43m[\u001b[49m\u001b[38;5;28;43;01mNone\u001b[39;49;00m\u001b[43m,\u001b[49m\u001b[43m \u001b[49m\u001b[43m:\u001b[49m\u001b[43m]\u001b[49m\u001b[43m,\u001b[49m\u001b[43m \u001b[49m\u001b[43maxis\u001b[49m\u001b[38;5;241;43m=\u001b[39;49m\u001b[38;5;241;43m0\u001b[39;49m\u001b[43m)\u001b[49m\n\u001b[1;32m     14\u001b[0m     fs     \u001b[38;5;241m=\u001b[39m generate_random_fs(num_samples)\n\u001b[1;32m     16\u001b[0m \u001b[38;5;28;01mreturn\u001b[39;00m paths, first_fs\n",
      "File \u001b[0;32m~/miniconda3/envs/entropica/lib/python3.13/site-packages/numpy/lib/_function_base_impl.py:5685\u001b[0m, in \u001b[0;36mappend\u001b[0;34m(arr, values, axis)\u001b[0m\n\u001b[1;32m   5683\u001b[0m     values \u001b[38;5;241m=\u001b[39m ravel(values)\n\u001b[1;32m   5684\u001b[0m     axis \u001b[38;5;241m=\u001b[39m arr\u001b[38;5;241m.\u001b[39mndim\u001b[38;5;241m-\u001b[39m\u001b[38;5;241m1\u001b[39m\n\u001b[0;32m-> 5685\u001b[0m \u001b[38;5;28;01mreturn\u001b[39;00m \u001b[43mconcatenate\u001b[49m\u001b[43m(\u001b[49m\u001b[43m(\u001b[49m\u001b[43marr\u001b[49m\u001b[43m,\u001b[49m\u001b[43m \u001b[49m\u001b[43mvalues\u001b[49m\u001b[43m)\u001b[49m\u001b[43m,\u001b[49m\u001b[43m \u001b[49m\u001b[43maxis\u001b[49m\u001b[38;5;241;43m=\u001b[39;49m\u001b[43maxis\u001b[49m\u001b[43m)\u001b[49m\n",
      "\u001b[0;31mKeyboardInterrupt\u001b[0m: "
     ]
    }
   ],
   "source": [
    "q = np.array([L/10., L/10.])\n",
    "# q = np.array([L/2., L/10.])\n",
    "p = np.array([0.   , 0.   ])\n",
    "\n",
    "path = copy.deepcopy(q[None, :])\n",
    "\n",
    "for timestep in range(200):\n",
    "    print(timestep, q)\n",
    "    f_c  = 2 * T_C / T_R * calculate_entropic_force( p ,\n",
    "                                                     q ,\n",
    "                                                     num_samples = 50_000 ,\n",
    "                                                     num_subsamples = 2 )\n",
    "    p, q = update_phase_space(p, q, f_c)\n",
    "    path = np.append(path, q[None, :], axis=0)"
   ]
  },
  {
   "cell_type": "code",
   "execution_count": null,
   "id": "54434948-7f9f-482a-8713-3f093a48327e",
   "metadata": {},
   "outputs": [],
   "source": [
    "fig, ax = plt.subplots(figsize=(13, 13))\n",
    "# from https://stackoverflow.com/a/37437395\n",
    "# ax.add_patch(patches.Rectangle(Q_MIN, L, L/5., edgecolor='k', fill=False))\n",
    "ax.plot(*path.T)\n",
    "ax.set_xlim(Q_MIN[0], Q_MAX[0])\n",
    "ax.set_ylim(Q_MIN[1], Q_MAX[1])\n",
    "ax.set(aspect='equal')\n",
    "plt.show()"
   ]
  },
  {
   "cell_type": "code",
   "execution_count": null,
   "id": "e5ccf3d0-d354-46a0-abaf-4d7e9fbf057a",
   "metadata": {},
   "outputs": [],
   "source": []
  }
 ],
 "metadata": {
  "kernelspec": {
   "display_name": "Python 3 (ipykernel)",
   "language": "python",
   "name": "python3"
  },
  "language_info": {
   "codemirror_mode": {
    "name": "ipython",
    "version": 3
   },
   "file_extension": ".py",
   "mimetype": "text/x-python",
   "name": "python",
   "nbconvert_exporter": "python",
   "pygments_lexer": "ipython3",
   "version": "3.13.4"
  }
 },
 "nbformat": 4,
 "nbformat_minor": 5
}
